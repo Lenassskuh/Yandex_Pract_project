{
  "cells": [
    {
      "cell_type": "markdown",
      "metadata": {
        "id": "AmRNx0xfwA8J"
      },
      "source": [
        "# Проект \"Сегментирование пользователей по потреблению\""
      ]
    },
    {
      "cell_type": "markdown",
      "metadata": {
        "id": "K_9c1HoTwCbt"
      },
      "source": [
        "**Задача :**\n",
        "\n",
        "Проанализировать клиентов регионального банка и сегментировать пользователей по количеству потребляемых продуктов, обращая особое внимание на отток."
      ]
    },
    {
      "cell_type": "markdown",
      "metadata": {
        "id": "99oRzR6JwGKY"
      },
      "source": [
        "**Цели :**\n",
        "\n",
        "1. Узнать, что и в какой степени влияет на количество потребляемых продуктов\n",
        "2. Узнать, как количество потребляемых продуктов влияет на отток\n",
        "3. Сдеелать вывод об аудитории, потребляемой наибольшее и наименьшее количество продуктов."
      ]
    },
    {
      "cell_type": "markdown",
      "metadata": {
        "id": "t7dDlqVB64j2"
      },
      "source": [
        "## Материалы\n",
        "\n",
        "Ссылка на дашборд: https://public.tableau.com/views/bank_project_16666507417200/Dashboard1?:language=en-US&publish=yes&:display_count=n&:origin=viz_share_link\n",
        "\n",
        "Ссылка на презентацию: https://drive.google.com/file/d/1wf7DBhASl8UG6kpHMre4URyGLHI7YyDm/view?usp=sharing\n"
      ]
    },
    {
      "cell_type": "markdown",
      "metadata": {
        "id": "6Q7HdIjFwJrI"
      },
      "source": [
        "##  1. Чтение и обработка данных"
      ]
    },
    {
      "cell_type": "markdown",
      "metadata": {
        "id": "yoi1mqlbwNmO"
      },
      "source": [
        "### 1.1 Импорт необходимых библиотек"
      ]
    },
    {
      "cell_type": "code",
      "execution_count": null,
      "metadata": {
        "id": "r3N4J5EyxsLH"
      },
      "outputs": [],
      "source": [
        "import pandas as pd\n",
        "import seaborn as sns\n",
        "import matplotlib.pyplot as plt\n",
        "import math as mth\n",
        "from scipy import stats as st\n",
        "from statsmodels.stats.proportion import proportions_ztest\n",
        "import numpy as np"
      ]
    },
    {
      "cell_type": "markdown",
      "metadata": {
        "id": "4y1tpzbEwRRQ"
      },
      "source": [
        "### 1.2 Чтение файла"
      ]
    },
    {
      "cell_type": "code",
      "execution_count": null,
      "metadata": {
        "colab": {
          "base_uri": "https://localhost:8080/",
          "height": 206
        },
        "id": "Y-ivQXKk3y5u",
        "outputId": "39be4857-7464-43ee-bbcf-daf34d2032ad"
      },
      "outputs": [
        {
          "data": {
            "text/html": [
              "\n",
              "  <div id=\"df-958d5f60-cb71-4260-9892-e6158108c04a\">\n",
              "    <div class=\"colab-df-container\">\n",
              "      <div>\n",
              "<style scoped>\n",
              "    .dataframe tbody tr th:only-of-type {\n",
              "        vertical-align: middle;\n",
              "    }\n",
              "\n",
              "    .dataframe tbody tr th {\n",
              "        vertical-align: top;\n",
              "    }\n",
              "\n",
              "    .dataframe thead th {\n",
              "        text-align: right;\n",
              "    }\n",
              "</style>\n",
              "<table border=\"1\" class=\"dataframe\">\n",
              "  <thead>\n",
              "    <tr style=\"text-align: right;\">\n",
              "      <th></th>\n",
              "      <th>userid</th>\n",
              "      <th>score</th>\n",
              "      <th>City</th>\n",
              "      <th>Gender</th>\n",
              "      <th>Age</th>\n",
              "      <th>Objects</th>\n",
              "      <th>Balance</th>\n",
              "      <th>Products</th>\n",
              "      <th>CreditCard</th>\n",
              "      <th>Loyalty</th>\n",
              "      <th>estimated_salary</th>\n",
              "      <th>Churn</th>\n",
              "    </tr>\n",
              "  </thead>\n",
              "  <tbody>\n",
              "    <tr>\n",
              "      <th>0</th>\n",
              "      <td>15677338</td>\n",
              "      <td>619</td>\n",
              "      <td>Ярославль</td>\n",
              "      <td>Ж</td>\n",
              "      <td>42</td>\n",
              "      <td>2</td>\n",
              "      <td>NaN</td>\n",
              "      <td>1</td>\n",
              "      <td>1</td>\n",
              "      <td>1</td>\n",
              "      <td>101348.88</td>\n",
              "      <td>1</td>\n",
              "    </tr>\n",
              "    <tr>\n",
              "      <th>1</th>\n",
              "      <td>15690047</td>\n",
              "      <td>608</td>\n",
              "      <td>Рыбинск</td>\n",
              "      <td>Ж</td>\n",
              "      <td>41</td>\n",
              "      <td>1</td>\n",
              "      <td>83807.86</td>\n",
              "      <td>1</td>\n",
              "      <td>0</td>\n",
              "      <td>1</td>\n",
              "      <td>112542.58</td>\n",
              "      <td>0</td>\n",
              "    </tr>\n",
              "    <tr>\n",
              "      <th>2</th>\n",
              "      <td>15662040</td>\n",
              "      <td>502</td>\n",
              "      <td>Ярославль</td>\n",
              "      <td>Ж</td>\n",
              "      <td>42</td>\n",
              "      <td>8</td>\n",
              "      <td>159660.80</td>\n",
              "      <td>3</td>\n",
              "      <td>1</td>\n",
              "      <td>0</td>\n",
              "      <td>113931.57</td>\n",
              "      <td>1</td>\n",
              "    </tr>\n",
              "    <tr>\n",
              "      <th>3</th>\n",
              "      <td>15744090</td>\n",
              "      <td>699</td>\n",
              "      <td>Ярославль</td>\n",
              "      <td>Ж</td>\n",
              "      <td>39</td>\n",
              "      <td>1</td>\n",
              "      <td>NaN</td>\n",
              "      <td>2</td>\n",
              "      <td>0</td>\n",
              "      <td>0</td>\n",
              "      <td>93826.63</td>\n",
              "      <td>0</td>\n",
              "    </tr>\n",
              "    <tr>\n",
              "      <th>4</th>\n",
              "      <td>15780624</td>\n",
              "      <td>850</td>\n",
              "      <td>Рыбинск</td>\n",
              "      <td>Ж</td>\n",
              "      <td>43</td>\n",
              "      <td>2</td>\n",
              "      <td>125510.82</td>\n",
              "      <td>1</td>\n",
              "      <td>1</td>\n",
              "      <td>1</td>\n",
              "      <td>79084.10</td>\n",
              "      <td>0</td>\n",
              "    </tr>\n",
              "  </tbody>\n",
              "</table>\n",
              "</div>\n",
              "      <button class=\"colab-df-convert\" onclick=\"convertToInteractive('df-958d5f60-cb71-4260-9892-e6158108c04a')\"\n",
              "              title=\"Convert this dataframe to an interactive table.\"\n",
              "              style=\"display:none;\">\n",
              "        \n",
              "  <svg xmlns=\"http://www.w3.org/2000/svg\" height=\"24px\"viewBox=\"0 0 24 24\"\n",
              "       width=\"24px\">\n",
              "    <path d=\"M0 0h24v24H0V0z\" fill=\"none\"/>\n",
              "    <path d=\"M18.56 5.44l.94 2.06.94-2.06 2.06-.94-2.06-.94-.94-2.06-.94 2.06-2.06.94zm-11 1L8.5 8.5l.94-2.06 2.06-.94-2.06-.94L8.5 2.5l-.94 2.06-2.06.94zm10 10l.94 2.06.94-2.06 2.06-.94-2.06-.94-.94-2.06-.94 2.06-2.06.94z\"/><path d=\"M17.41 7.96l-1.37-1.37c-.4-.4-.92-.59-1.43-.59-.52 0-1.04.2-1.43.59L10.3 9.45l-7.72 7.72c-.78.78-.78 2.05 0 2.83L4 21.41c.39.39.9.59 1.41.59.51 0 1.02-.2 1.41-.59l7.78-7.78 2.81-2.81c.8-.78.8-2.07 0-2.86zM5.41 20L4 18.59l7.72-7.72 1.47 1.35L5.41 20z\"/>\n",
              "  </svg>\n",
              "      </button>\n",
              "      \n",
              "  <style>\n",
              "    .colab-df-container {\n",
              "      display:flex;\n",
              "      flex-wrap:wrap;\n",
              "      gap: 12px;\n",
              "    }\n",
              "\n",
              "    .colab-df-convert {\n",
              "      background-color: #E8F0FE;\n",
              "      border: none;\n",
              "      border-radius: 50%;\n",
              "      cursor: pointer;\n",
              "      display: none;\n",
              "      fill: #1967D2;\n",
              "      height: 32px;\n",
              "      padding: 0 0 0 0;\n",
              "      width: 32px;\n",
              "    }\n",
              "\n",
              "    .colab-df-convert:hover {\n",
              "      background-color: #E2EBFA;\n",
              "      box-shadow: 0px 1px 2px rgba(60, 64, 67, 0.3), 0px 1px 3px 1px rgba(60, 64, 67, 0.15);\n",
              "      fill: #174EA6;\n",
              "    }\n",
              "\n",
              "    [theme=dark] .colab-df-convert {\n",
              "      background-color: #3B4455;\n",
              "      fill: #D2E3FC;\n",
              "    }\n",
              "\n",
              "    [theme=dark] .colab-df-convert:hover {\n",
              "      background-color: #434B5C;\n",
              "      box-shadow: 0px 1px 3px 1px rgba(0, 0, 0, 0.15);\n",
              "      filter: drop-shadow(0px 1px 2px rgba(0, 0, 0, 0.3));\n",
              "      fill: #FFFFFF;\n",
              "    }\n",
              "  </style>\n",
              "\n",
              "      <script>\n",
              "        const buttonEl =\n",
              "          document.querySelector('#df-958d5f60-cb71-4260-9892-e6158108c04a button.colab-df-convert');\n",
              "        buttonEl.style.display =\n",
              "          google.colab.kernel.accessAllowed ? 'block' : 'none';\n",
              "\n",
              "        async function convertToInteractive(key) {\n",
              "          const element = document.querySelector('#df-958d5f60-cb71-4260-9892-e6158108c04a');\n",
              "          const dataTable =\n",
              "            await google.colab.kernel.invokeFunction('convertToInteractive',\n",
              "                                                     [key], {});\n",
              "          if (!dataTable) return;\n",
              "\n",
              "          const docLinkHtml = 'Like what you see? Visit the ' +\n",
              "            '<a target=\"_blank\" href=https://colab.research.google.com/notebooks/data_table.ipynb>data table notebook</a>'\n",
              "            + ' to learn more about interactive tables.';\n",
              "          element.innerHTML = '';\n",
              "          dataTable['output_type'] = 'display_data';\n",
              "          await google.colab.output.renderOutput(dataTable, element);\n",
              "          const docLink = document.createElement('div');\n",
              "          docLink.innerHTML = docLinkHtml;\n",
              "          element.appendChild(docLink);\n",
              "        }\n",
              "      </script>\n",
              "    </div>\n",
              "  </div>\n",
              "  "
            ],
            "text/plain": [
              "     userid  score       City Gender  Age  Objects    Balance  Products  \\\n",
              "0  15677338    619  Ярославль      Ж   42        2        NaN         1   \n",
              "1  15690047    608    Рыбинск      Ж   41        1   83807.86         1   \n",
              "2  15662040    502  Ярославль      Ж   42        8  159660.80         3   \n",
              "3  15744090    699  Ярославль      Ж   39        1        NaN         2   \n",
              "4  15780624    850    Рыбинск      Ж   43        2  125510.82         1   \n",
              "\n",
              "   CreditCard  Loyalty  estimated_salary  Churn  \n",
              "0           1        1         101348.88      1  \n",
              "1           0        1         112542.58      0  \n",
              "2           1        0         113931.57      1  \n",
              "3           0        0          93826.63      0  \n",
              "4           1        1          79084.10      0  "
            ]
          },
          "execution_count": 154,
          "metadata": {},
          "output_type": "execute_result"
        }
      ],
      "source": [
        "bank = pd.read_csv('/content/bank_dataset.csv')\n",
        "bank.head()"
      ]
    },
    {
      "cell_type": "code",
      "execution_count": null,
      "metadata": {
        "colab": {
          "base_uri": "https://localhost:8080/"
        },
        "id": "qrcQ9bqw4Dq0",
        "outputId": "0f890152-a4de-494d-902b-8ef1299471a8"
      },
      "outputs": [
        {
          "name": "stdout",
          "output_type": "stream",
          "text": [
            "<class 'pandas.core.frame.DataFrame'>\n",
            "RangeIndex: 10000 entries, 0 to 9999\n",
            "Data columns (total 12 columns):\n",
            " #   Column            Non-Null Count  Dtype  \n",
            "---  ------            --------------  -----  \n",
            " 0   userid            10000 non-null  int64  \n",
            " 1   score             10000 non-null  int64  \n",
            " 2   City              10000 non-null  object \n",
            " 3   Gender            10000 non-null  object \n",
            " 4   Age               10000 non-null  int64  \n",
            " 5   Objects           10000 non-null  int64  \n",
            " 6   Balance           6383 non-null   float64\n",
            " 7   Products          10000 non-null  int64  \n",
            " 8   CreditCard        10000 non-null  int64  \n",
            " 9   Loyalty           10000 non-null  int64  \n",
            " 10  estimated_salary  10000 non-null  float64\n",
            " 11  Churn             10000 non-null  int64  \n",
            "dtypes: float64(2), int64(8), object(2)\n",
            "memory usage: 937.6+ KB\n"
          ]
        }
      ],
      "source": [
        "bank.info()"
      ]
    },
    {
      "cell_type": "markdown",
      "metadata": {
        "id": "TG2JwN4eDAuW"
      },
      "source": [
        "### 1.3 Создание нового столбца с распределением по возрасту"
      ]
    },
    {
      "cell_type": "code",
      "execution_count": null,
      "metadata": {
        "colab": {
          "base_uri": "https://localhost:8080/"
        },
        "id": "I2Kq5nT8DGFN",
        "outputId": "ea71f461-e992-4058-adf4-9abdb5cdd3c3"
      },
      "outputs": [
        {
          "name": "stdout",
          "output_type": "stream",
          "text": [
            "<class 'pandas.core.frame.DataFrame'>\n",
            "RangeIndex: 10000 entries, 0 to 9999\n",
            "Data columns (total 13 columns):\n",
            " #   Column            Non-Null Count  Dtype  \n",
            "---  ------            --------------  -----  \n",
            " 0   userid            10000 non-null  int64  \n",
            " 1   score             10000 non-null  int64  \n",
            " 2   City              10000 non-null  object \n",
            " 3   Gender            10000 non-null  object \n",
            " 4   Age               10000 non-null  int64  \n",
            " 5   Objects           10000 non-null  int64  \n",
            " 6   Balance           6383 non-null   float64\n",
            " 7   Products          10000 non-null  int64  \n",
            " 8   CreditCard        10000 non-null  int64  \n",
            " 9   Loyalty           10000 non-null  int64  \n",
            " 10  estimated_salary  10000 non-null  float64\n",
            " 11  Churn             10000 non-null  int64  \n",
            " 12  age_cat           10000 non-null  object \n",
            "dtypes: float64(2), int64(8), object(3)\n",
            "memory usage: 1015.8+ KB\n"
          ]
        }
      ],
      "source": [
        "row=[]\n",
        "def age_cat(row):\n",
        "    x=row['Age']\n",
        "    if x<=30:\n",
        "      return 'молодой'\n",
        "    elif x>30 and x<=55:\n",
        "      return 'среднего возраста'\n",
        "    else:\n",
        "        return 'пожилой'\n",
        "bank['age_cat']=bank.apply(age_cat, axis=1)\n",
        "bank.info()"
      ]
    },
    {
      "cell_type": "markdown",
      "metadata": {
        "id": "LbzmDllHwVFM"
      },
      "source": [
        "### 1.4 Приведение названия столбцов к нижнему регистру"
      ]
    },
    {
      "cell_type": "code",
      "execution_count": null,
      "metadata": {
        "colab": {
          "base_uri": "https://localhost:8080/"
        },
        "id": "N6BsuFLZ4sL_",
        "outputId": "a2f14b1a-f8ff-42da-ff50-4afcef77d4fe"
      },
      "outputs": [
        {
          "name": "stdout",
          "output_type": "stream",
          "text": [
            "<class 'pandas.core.frame.DataFrame'>\n",
            "RangeIndex: 10000 entries, 0 to 9999\n",
            "Data columns (total 13 columns):\n",
            " #   Column            Non-Null Count  Dtype  \n",
            "---  ------            --------------  -----  \n",
            " 0   userid            10000 non-null  int64  \n",
            " 1   score             10000 non-null  int64  \n",
            " 2   city              10000 non-null  object \n",
            " 3   gender            10000 non-null  object \n",
            " 4   age               10000 non-null  int64  \n",
            " 5   objects           10000 non-null  int64  \n",
            " 6   balance           6383 non-null   float64\n",
            " 7   products          10000 non-null  int64  \n",
            " 8   creditcard        10000 non-null  int64  \n",
            " 9   loyalty           10000 non-null  int64  \n",
            " 10  estimated_salary  10000 non-null  float64\n",
            " 11  churn             10000 non-null  int64  \n",
            " 12  age_cat           10000 non-null  object \n",
            "dtypes: float64(2), int64(8), object(3)\n",
            "memory usage: 1015.8+ KB\n"
          ]
        }
      ],
      "source": [
        "bank.columns = bank.columns.str.lower()\n",
        "bank.info()"
      ]
    },
    {
      "cell_type": "markdown",
      "metadata": {
        "id": "SzjMnDukwXya"
      },
      "source": [
        "### 1.5 Проверка на наличие пропусков, дубликатов и корректности типа данных"
      ]
    },
    {
      "cell_type": "markdown",
      "metadata": {
        "id": "HPYV9ARb438h"
      },
      "source": [
        "Исходя из выше описанных пунктов, можем заметить, что все типы данных верные, пропуски есть только в столбце balance."
      ]
    },
    {
      "cell_type": "code",
      "execution_count": null,
      "metadata": {
        "colab": {
          "base_uri": "https://localhost:8080/"
        },
        "id": "9zkW8V8X8l1P",
        "outputId": "ca0b34f0-2ee8-439e-b433-3bad33c432d1",
        "scrolled": true
      },
      "outputs": [
        {
          "name": "stdout",
          "output_type": "stream",
          "text": [
            "<class 'pandas.core.frame.DataFrame'>\n",
            "Int64Index: 4543 entries, 0 to 9999\n",
            "Data columns (total 13 columns):\n",
            " #   Column            Non-Null Count  Dtype  \n",
            "---  ------            --------------  -----  \n",
            " 0   userid            4543 non-null   int64  \n",
            " 1   score             4543 non-null   int64  \n",
            " 2   city              4543 non-null   object \n",
            " 3   gender            4543 non-null   object \n",
            " 4   age               4543 non-null   int64  \n",
            " 5   objects           4543 non-null   int64  \n",
            " 6   balance           2889 non-null   float64\n",
            " 7   products          4543 non-null   int64  \n",
            " 8   creditcard        4543 non-null   int64  \n",
            " 9   loyalty           4543 non-null   int64  \n",
            " 10  estimated_salary  4543 non-null   float64\n",
            " 11  churn             4543 non-null   int64  \n",
            " 12  age_cat           4543 non-null   object \n",
            "dtypes: float64(2), int64(8), object(3)\n",
            "memory usage: 496.9+ KB\n",
            "<class 'pandas.core.frame.DataFrame'>\n",
            "Int64Index: 5457 entries, 5 to 9998\n",
            "Data columns (total 13 columns):\n",
            " #   Column            Non-Null Count  Dtype  \n",
            "---  ------            --------------  -----  \n",
            " 0   userid            5457 non-null   int64  \n",
            " 1   score             5457 non-null   int64  \n",
            " 2   city              5457 non-null   object \n",
            " 3   gender            5457 non-null   object \n",
            " 4   age               5457 non-null   int64  \n",
            " 5   objects           5457 non-null   int64  \n",
            " 6   balance           3494 non-null   float64\n",
            " 7   products          5457 non-null   int64  \n",
            " 8   creditcard        5457 non-null   int64  \n",
            " 9   loyalty           5457 non-null   int64  \n",
            " 10  estimated_salary  5457 non-null   float64\n",
            " 11  churn             5457 non-null   int64  \n",
            " 12  age_cat           5457 non-null   object \n",
            "dtypes: float64(2), int64(8), object(3)\n",
            "memory usage: 596.9+ KB\n"
          ]
        }
      ],
      "source": [
        "#Проверим, влияет ли гендер клиента на наличие пропусков\n",
        "bank.query('gender==\"Ж\"').info()\n",
        "bank.query('gender==\"М\"').info()"
      ]
    },
    {
      "cell_type": "markdown",
      "metadata": {
        "id": "Pkb2VMI9765b"
      },
      "source": [
        "Заметим, что распределение пропусков по гендеру в процентном соотнощение приблизительно одинаковое. Значит, дело не в этом. "
      ]
    },
    {
      "cell_type": "code",
      "execution_count": null,
      "metadata": {
        "colab": {
          "base_uri": "https://localhost:8080/"
        },
        "id": "1G4O5Dqo7bdY",
        "outputId": "dfe076b4-86e5-4630-e70d-c0d2e10c9828",
        "scrolled": true
      },
      "outputs": [
        {
          "name": "stdout",
          "output_type": "stream",
          "text": [
            "<class 'pandas.core.frame.DataFrame'>\n",
            "Int64Index: 7963 entries, 1 to 9999\n",
            "Data columns (total 13 columns):\n",
            " #   Column            Non-Null Count  Dtype  \n",
            "---  ------            --------------  -----  \n",
            " 0   userid            7963 non-null   int64  \n",
            " 1   score             7963 non-null   int64  \n",
            " 2   city              7963 non-null   object \n",
            " 3   gender            7963 non-null   object \n",
            " 4   age               7963 non-null   int64  \n",
            " 5   objects           7963 non-null   int64  \n",
            " 6   balance           4846 non-null   float64\n",
            " 7   products          7963 non-null   int64  \n",
            " 8   creditcard        7963 non-null   int64  \n",
            " 9   loyalty           7963 non-null   int64  \n",
            " 10  estimated_salary  7963 non-null   float64\n",
            " 11  churn             7963 non-null   int64  \n",
            " 12  age_cat           7963 non-null   object \n",
            "dtypes: float64(2), int64(8), object(3)\n",
            "memory usage: 871.0+ KB\n",
            "<class 'pandas.core.frame.DataFrame'>\n",
            "Int64Index: 2037 entries, 0 to 9998\n",
            "Data columns (total 13 columns):\n",
            " #   Column            Non-Null Count  Dtype  \n",
            "---  ------            --------------  -----  \n",
            " 0   userid            2037 non-null   int64  \n",
            " 1   score             2037 non-null   int64  \n",
            " 2   city              2037 non-null   object \n",
            " 3   gender            2037 non-null   object \n",
            " 4   age               2037 non-null   int64  \n",
            " 5   objects           2037 non-null   int64  \n",
            " 6   balance           1537 non-null   float64\n",
            " 7   products          2037 non-null   int64  \n",
            " 8   creditcard        2037 non-null   int64  \n",
            " 9   loyalty           2037 non-null   int64  \n",
            " 10  estimated_salary  2037 non-null   float64\n",
            " 11  churn             2037 non-null   int64  \n",
            " 12  age_cat           2037 non-null   object \n",
            "dtypes: float64(2), int64(8), object(3)\n",
            "memory usage: 222.8+ KB\n"
          ]
        }
      ],
      "source": [
        "#Проверим, влияет ли отток на наличие пропусков\n",
        "bank.query('churn==0').info()\n",
        "bank.query('churn==1').info()"
      ]
    },
    {
      "cell_type": "markdown",
      "metadata": {
        "id": "-26fgDzK8wOg"
      },
      "source": [
        "Заметим, что в процентном соотношении больше пропусков среди тех, кто в итоге перестал быть клиентом банка, однако их так же много и среди тех, кто не попал в отток. "
      ]
    },
    {
      "cell_type": "code",
      "execution_count": null,
      "metadata": {
        "colab": {
          "base_uri": "https://localhost:8080/"
        },
        "id": "nPuEvLXR9ex9",
        "outputId": "9edc2faf-a085-45da-8528-d2d38211d2ba"
      },
      "outputs": [
        {
          "data": {
            "text/plain": [
              "array(['Ярославль', 'Рыбинск', 'Ростов Великий'], dtype=object)"
            ]
          },
          "execution_count": 160,
          "metadata": {},
          "output_type": "execute_result"
        }
      ],
      "source": [
        "#Найдем все названия городов, в которых распалагаются отделения банка\n",
        "pd.unique(bank['city'])"
      ]
    },
    {
      "cell_type": "code",
      "execution_count": null,
      "metadata": {
        "colab": {
          "base_uri": "https://localhost:8080/"
        },
        "id": "hltktmeE9nzB",
        "outputId": "e9b6cf0e-4ebb-4df2-f11b-df39fdbab959"
      },
      "outputs": [
        {
          "name": "stdout",
          "output_type": "stream",
          "text": [
            "<class 'pandas.core.frame.DataFrame'>\n",
            "Int64Index: 5014 entries, 0 to 9999\n",
            "Data columns (total 13 columns):\n",
            " #   Column            Non-Null Count  Dtype  \n",
            "---  ------            --------------  -----  \n",
            " 0   userid            5014 non-null   int64  \n",
            " 1   score             5014 non-null   int64  \n",
            " 2   city              5014 non-null   object \n",
            " 3   gender            5014 non-null   object \n",
            " 4   age               5014 non-null   int64  \n",
            " 5   objects           5014 non-null   int64  \n",
            " 6   balance           2596 non-null   float64\n",
            " 7   products          5014 non-null   int64  \n",
            " 8   creditcard        5014 non-null   int64  \n",
            " 9   loyalty           5014 non-null   int64  \n",
            " 10  estimated_salary  5014 non-null   float64\n",
            " 11  churn             5014 non-null   int64  \n",
            " 12  age_cat           5014 non-null   object \n",
            "dtypes: float64(2), int64(8), object(3)\n",
            "memory usage: 548.4+ KB\n",
            "<class 'pandas.core.frame.DataFrame'>\n",
            "Int64Index: 2477 entries, 1 to 9992\n",
            "Data columns (total 13 columns):\n",
            " #   Column            Non-Null Count  Dtype  \n",
            "---  ------            --------------  -----  \n",
            " 0   userid            2477 non-null   int64  \n",
            " 1   score             2477 non-null   int64  \n",
            " 2   city              2477 non-null   object \n",
            " 3   gender            2477 non-null   object \n",
            " 4   age               2477 non-null   int64  \n",
            " 5   objects           2477 non-null   int64  \n",
            " 6   balance           1278 non-null   float64\n",
            " 7   products          2477 non-null   int64  \n",
            " 8   creditcard        2477 non-null   int64  \n",
            " 9   loyalty           2477 non-null   int64  \n",
            " 10  estimated_salary  2477 non-null   float64\n",
            " 11  churn             2477 non-null   int64  \n",
            " 12  age_cat           2477 non-null   object \n",
            "dtypes: float64(2), int64(8), object(3)\n",
            "memory usage: 270.9+ KB\n",
            "<class 'pandas.core.frame.DataFrame'>\n",
            "Int64Index: 2509 entries, 7 to 9998\n",
            "Data columns (total 13 columns):\n",
            " #   Column            Non-Null Count  Dtype  \n",
            "---  ------            --------------  -----  \n",
            " 0   userid            2509 non-null   int64  \n",
            " 1   score             2509 non-null   int64  \n",
            " 2   city              2509 non-null   object \n",
            " 3   gender            2509 non-null   object \n",
            " 4   age               2509 non-null   int64  \n",
            " 5   objects           2509 non-null   int64  \n",
            " 6   balance           2509 non-null   float64\n",
            " 7   products          2509 non-null   int64  \n",
            " 8   creditcard        2509 non-null   int64  \n",
            " 9   loyalty           2509 non-null   int64  \n",
            " 10  estimated_salary  2509 non-null   float64\n",
            " 11  churn             2509 non-null   int64  \n",
            " 12  age_cat           2509 non-null   object \n",
            "dtypes: float64(2), int64(8), object(3)\n",
            "memory usage: 274.4+ KB\n"
          ]
        }
      ],
      "source": [
        "#Проверим, влияет ли расположение банка на наличие пропусков\n",
        "bank.query('city==\"Ярославль\"').info()\n",
        "bank.query('city==\"Рыбинск\"').info()\n",
        "bank.query('city==\"Ростов Великий\"').info()"
      ]
    },
    {
      "cell_type": "markdown",
      "metadata": {
        "id": "x-9Iaaec-R3v"
      },
      "source": [
        "Заметим, что в Ростове Великом не ни одного пропуска, в то время как в остальных городах приблизительно половина пропусков в столбце balance. Тут явно дело в отделениях банка в конкретных городах. "
      ]
    },
    {
      "cell_type": "code",
      "execution_count": null,
      "metadata": {
        "colab": {
          "base_uri": "https://localhost:8080/"
        },
        "id": "z6CRUBXTDOwV",
        "outputId": "29290fd8-0380-4c99-e69a-5499d88ba668"
      },
      "outputs": [
        {
          "name": "stdout",
          "output_type": "stream",
          "text": [
            "<class 'pandas.core.frame.DataFrame'>\n",
            "Int64Index: 1968 entries, 7 to 9999\n",
            "Data columns (total 13 columns):\n",
            " #   Column            Non-Null Count  Dtype  \n",
            "---  ------            --------------  -----  \n",
            " 0   userid            1968 non-null   int64  \n",
            " 1   score             1968 non-null   int64  \n",
            " 2   city              1968 non-null   object \n",
            " 3   gender            1968 non-null   object \n",
            " 4   age               1968 non-null   int64  \n",
            " 5   objects           1968 non-null   int64  \n",
            " 6   balance           1198 non-null   float64\n",
            " 7   products          1968 non-null   int64  \n",
            " 8   creditcard        1968 non-null   int64  \n",
            " 9   loyalty           1968 non-null   int64  \n",
            " 10  estimated_salary  1968 non-null   float64\n",
            " 11  churn             1968 non-null   int64  \n",
            " 12  age_cat           1968 non-null   object \n",
            "dtypes: float64(2), int64(8), object(3)\n",
            "memory usage: 215.2+ KB\n",
            "<class 'pandas.core.frame.DataFrame'>\n",
            "Int64Index: 7232 entries, 0 to 9998\n",
            "Data columns (total 13 columns):\n",
            " #   Column            Non-Null Count  Dtype  \n",
            "---  ------            --------------  -----  \n",
            " 0   userid            7232 non-null   int64  \n",
            " 1   score             7232 non-null   int64  \n",
            " 2   city              7232 non-null   object \n",
            " 3   gender            7232 non-null   object \n",
            " 4   age               7232 non-null   int64  \n",
            " 5   objects           7232 non-null   int64  \n",
            " 6   balance           4663 non-null   float64\n",
            " 7   products          7232 non-null   int64  \n",
            " 8   creditcard        7232 non-null   int64  \n",
            " 9   loyalty           7232 non-null   int64  \n",
            " 10  estimated_salary  7232 non-null   float64\n",
            " 11  churn             7232 non-null   int64  \n",
            " 12  age_cat           7232 non-null   object \n",
            "dtypes: float64(2), int64(8), object(3)\n",
            "memory usage: 791.0+ KB\n",
            "<class 'pandas.core.frame.DataFrame'>\n",
            "Int64Index: 800 entries, 16 to 9979\n",
            "Data columns (total 13 columns):\n",
            " #   Column            Non-Null Count  Dtype  \n",
            "---  ------            --------------  -----  \n",
            " 0   userid            800 non-null    int64  \n",
            " 1   score             800 non-null    int64  \n",
            " 2   city              800 non-null    object \n",
            " 3   gender            800 non-null    object \n",
            " 4   age               800 non-null    int64  \n",
            " 5   objects           800 non-null    int64  \n",
            " 6   balance           522 non-null    float64\n",
            " 7   products          800 non-null    int64  \n",
            " 8   creditcard        800 non-null    int64  \n",
            " 9   loyalty           800 non-null    int64  \n",
            " 10  estimated_salary  800 non-null    float64\n",
            " 11  churn             800 non-null    int64  \n",
            " 12  age_cat           800 non-null    object \n",
            "dtypes: float64(2), int64(8), object(3)\n",
            "memory usage: 87.5+ KB\n"
          ]
        }
      ],
      "source": [
        "#Проверим, влияет ли расположение банка на наличие пропусков\n",
        "bank.query('age_cat==\"молодой\"').info()\n",
        "bank.query('age_cat==\"среднего возраста\"').info()\n",
        "bank.query('age_cat==\"пожилой\"').info()"
      ]
    },
    {
      "cell_type": "markdown",
      "metadata": {
        "id": "xeNl8EQ-DfeH"
      },
      "source": [
        "Заметим, что в основном в процентном соотношении пропуски у людей среднего возраста. Возможно, дело так же в этом.  Точную причину пропусков надо узнавать у самого заказчика."
      ]
    },
    {
      "cell_type": "markdown",
      "metadata": {
        "id": "q0jaDTc9ADU3"
      },
      "source": [
        "Так как точную причину наличия пропусков мы не знаем, то заполнять их не будем"
      ]
    },
    {
      "cell_type": "code",
      "execution_count": null,
      "metadata": {
        "colab": {
          "base_uri": "https://localhost:8080/"
        },
        "id": "ChgQZfzyALsy",
        "outputId": "7187970e-d337-4203-dbcd-5e7e7fccf2be"
      },
      "outputs": [
        {
          "data": {
            "text/plain": [
              "0"
            ]
          },
          "execution_count": 163,
          "metadata": {},
          "output_type": "execute_result"
        }
      ],
      "source": [
        "#проверим на наличие дубликатов\n",
        "bank.duplicated().sum()"
      ]
    },
    {
      "cell_type": "markdown",
      "metadata": {
        "id": "3tZ_5EjxA_c6"
      },
      "source": [
        "Дубликатов нет"
      ]
    },
    {
      "cell_type": "markdown",
      "metadata": {
        "id": "QikG6MTrwbO5"
      },
      "source": [
        "### 1.6 Проверка на выбросы"
      ]
    },
    {
      "cell_type": "code",
      "execution_count": null,
      "metadata": {
        "colab": {
          "base_uri": "https://localhost:8080/",
          "height": 592
        },
        "id": "fqFQeNvKD2kR",
        "outputId": "8b793c21-5dc1-4f9c-87ab-e73b024f2792"
      },
      "outputs": [
        {
          "data": {
            "image/png": "[encoded data removed]",
            "text/plain": [
              "<Figure size 1440x720 with 8 Axes>"
            ]
          },
          "metadata": {
            "needs_background": "light"
          },
          "output_type": "display_data"
        }
      ],
      "source": [
        "#Выведем графики выбросов\n",
        "a=['age', 'score', 'balance', 'estimated_salary']\n",
        "fig, axes = plt.subplots(nrows=2, ncols=4, figsize=(20,10))\n",
        "axes_list = [item for sublist in axes for item in sublist]\n",
        "for column in bank.columns:\n",
        "    if column in a:\n",
        "      ax = axes_list.pop(0)\n",
        "      sns.boxplot(x=bank[column], ax=ax)"
      ]
    },
    {
      "cell_type": "markdown",
      "metadata": {
        "id": "oXhENiXwNeWA"
      },
      "source": [
        "Здесь выбросом считается возраст, более либо равный 61-62, менее 350 баллов в значении score, менее 40000 и более 200000 в столбце баланса. В столбце зарплаты выбросов нет.\n"
      ]
    },
    {
      "cell_type": "markdown",
      "metadata": {
        "id": "gXhE090CPD6r"
      },
      "source": [
        "После исследования столбцов на выбросы, делаю вывод, что удалять их не будем."
      ]
    },
    {
      "cell_type": "markdown",
      "metadata": {
        "id": "6Yzhzpq7wfr2"
      },
      "source": [
        "## 2. Проведение исследовательского анализа данных"
      ]
    },
    {
      "cell_type": "markdown",
      "metadata": {
        "id": "1KfLaMwwwpAj"
      },
      "source": [
        "### 2.1 Проверить взаимосвязь между количеством приобретенных продуктов и остальными критериями"
      ]
    },
    {
      "cell_type": "code",
      "execution_count": null,
      "metadata": {
        "colab": {
          "base_uri": "https://localhost:8080/",
          "height": 606
        },
        "id": "et8R5ettM4iv",
        "outputId": "5426065c-0ded-45d4-d651-08007b8aaeb0"
      },
      "outputs": [
        {
          "data": {
            "image/png": "[encoded data removed]",
            "text/plain": [
              "<Figure size 1440x720 with 8 Axes>"
            ]
          },
          "metadata": {
            "needs_background": "light"
          },
          "output_type": "display_data"
        }
      ],
      "source": [
        "#Построим столбчатые гистограммы и распределения признаков для тех, кто ушёл (отток) и тех, кто остался (не попали в отток)\n",
        "distplot_columns=bank[['userid', 'products', 'age', 'score', 'estimated_salary', 'balance']]\n",
        "fig, axes = plt.subplots(nrows=2, ncols=4, figsize=(20,10))\n",
        "axes_list = [item for sublist in axes for item in sublist]\n",
        "for column in bank.columns:\n",
        "    if column not in distplot_columns:\n",
        "        ax = axes_list.pop(0)\n",
        "        sns.countplot(x = bank[column], hue='products', data=bank, ax=ax)\n",
        "        ax.legend(['1', '2', '3', '4'])"
      ]
    },
    {
      "cell_type": "code",
      "execution_count": null,
      "metadata": {
        "colab": {
          "base_uri": "https://localhost:8080/",
          "height": 606
        },
        "id": "8GaJjE8tT_sm",
        "outputId": "dddb12c9-c6d8-4d97-a6f0-8266747dc1b6"
      },
      "outputs": [
        {
          "data": {
            "image/png": "[encoded data removed]",
            "text/plain": [
              "<Figure size 1440x720 with 8 Axes>"
            ]
          },
          "metadata": {
            "needs_background": "light"
          },
          "output_type": "display_data"
        }
      ],
      "source": [
        "distplot_columns=bank[['userid', 'products', 'age', 'score', 'estimated_salary', 'balance']]\n",
        "fig, axes = plt.subplots(nrows=2, ncols=4, figsize=(20,10))\n",
        "axes_list = [item for sublist in axes for item in sublist]\n",
        "for column in bank.columns:\n",
        "    if column not in distplot_columns:\n",
        "        ax = axes_list.pop(0)\n",
        "        sns.histplot(x = bank[column], hue='products', data=bank, ax=ax)\n",
        "        ax.legend(['1', '2', '3', '4'])"
      ]
    },
    {
      "cell_type": "code",
      "execution_count": null,
      "metadata": {
        "colab": {
          "base_uri": "https://localhost:8080/",
          "height": 661
        },
        "id": "Br8IebTWMRtA",
        "outputId": "9753dbc3-6887-4831-bd29-6a855d9c777a"
      },
      "outputs": [
        {
          "data": {
            "text/html": [
              "\n",
              "  <div id=\"df-4f1a14a1-a23b-4a48-853c-87e58c5b6fbb\">\n",
              "    <div class=\"colab-df-container\">\n",
              "      <div>\n",
              "<style scoped>\n",
              "    .dataframe tbody tr th:only-of-type {\n",
              "        vertical-align: middle;\n",
              "    }\n",
              "\n",
              "    .dataframe tbody tr th {\n",
              "        vertical-align: top;\n",
              "    }\n",
              "\n",
              "    .dataframe thead th {\n",
              "        text-align: right;\n",
              "    }\n",
              "</style>\n",
              "<table border=\"1\" class=\"dataframe\">\n",
              "  <thead>\n",
              "    <tr style=\"text-align: right;\">\n",
              "      <th></th>\n",
              "      <th>userid</th>\n",
              "      <th>score</th>\n",
              "      <th>city</th>\n",
              "      <th>gender</th>\n",
              "      <th>age</th>\n",
              "      <th>objects</th>\n",
              "      <th>balance</th>\n",
              "      <th>products</th>\n",
              "      <th>creditcard</th>\n",
              "      <th>loyalty</th>\n",
              "      <th>estimated_salary</th>\n",
              "      <th>churn</th>\n",
              "      <th>age_cat</th>\n",
              "      <th>index</th>\n",
              "      <th>Ростов Великий</th>\n",
              "      <th>Рыбинск</th>\n",
              "      <th>Ярославль</th>\n",
              "      <th>Ж</th>\n",
              "      <th>М</th>\n",
              "    </tr>\n",
              "  </thead>\n",
              "  <tbody>\n",
              "    <tr>\n",
              "      <th>0</th>\n",
              "      <td>15677338</td>\n",
              "      <td>619</td>\n",
              "      <td>Ярославль</td>\n",
              "      <td>Ж</td>\n",
              "      <td>42</td>\n",
              "      <td>2</td>\n",
              "      <td>NaN</td>\n",
              "      <td>1</td>\n",
              "      <td>1</td>\n",
              "      <td>1</td>\n",
              "      <td>101348.88</td>\n",
              "      <td>1</td>\n",
              "      <td>среднего возраста</td>\n",
              "      <td>0</td>\n",
              "      <td>0</td>\n",
              "      <td>0</td>\n",
              "      <td>1</td>\n",
              "      <td>1</td>\n",
              "      <td>0</td>\n",
              "    </tr>\n",
              "    <tr>\n",
              "      <th>1</th>\n",
              "      <td>15690047</td>\n",
              "      <td>608</td>\n",
              "      <td>Рыбинск</td>\n",
              "      <td>Ж</td>\n",
              "      <td>41</td>\n",
              "      <td>1</td>\n",
              "      <td>83807.86</td>\n",
              "      <td>1</td>\n",
              "      <td>0</td>\n",
              "      <td>1</td>\n",
              "      <td>112542.58</td>\n",
              "      <td>0</td>\n",
              "      <td>среднего возраста</td>\n",
              "      <td>1</td>\n",
              "      <td>0</td>\n",
              "      <td>1</td>\n",
              "      <td>0</td>\n",
              "      <td>1</td>\n",
              "      <td>0</td>\n",
              "    </tr>\n",
              "    <tr>\n",
              "      <th>2</th>\n",
              "      <td>15662040</td>\n",
              "      <td>502</td>\n",
              "      <td>Ярославль</td>\n",
              "      <td>Ж</td>\n",
              "      <td>42</td>\n",
              "      <td>8</td>\n",
              "      <td>159660.80</td>\n",
              "      <td>3</td>\n",
              "      <td>1</td>\n",
              "      <td>0</td>\n",
              "      <td>113931.57</td>\n",
              "      <td>1</td>\n",
              "      <td>среднего возраста</td>\n",
              "      <td>2</td>\n",
              "      <td>0</td>\n",
              "      <td>0</td>\n",
              "      <td>1</td>\n",
              "      <td>1</td>\n",
              "      <td>0</td>\n",
              "    </tr>\n",
              "    <tr>\n",
              "      <th>3</th>\n",
              "      <td>15744090</td>\n",
              "      <td>699</td>\n",
              "      <td>Ярославль</td>\n",
              "      <td>Ж</td>\n",
              "      <td>39</td>\n",
              "      <td>1</td>\n",
              "      <td>NaN</td>\n",
              "      <td>2</td>\n",
              "      <td>0</td>\n",
              "      <td>0</td>\n",
              "      <td>93826.63</td>\n",
              "      <td>0</td>\n",
              "      <td>среднего возраста</td>\n",
              "      <td>3</td>\n",
              "      <td>0</td>\n",
              "      <td>0</td>\n",
              "      <td>1</td>\n",
              "      <td>1</td>\n",
              "      <td>0</td>\n",
              "    </tr>\n",
              "    <tr>\n",
              "      <th>4</th>\n",
              "      <td>15780624</td>\n",
              "      <td>850</td>\n",
              "      <td>Рыбинск</td>\n",
              "      <td>Ж</td>\n",
              "      <td>43</td>\n",
              "      <td>2</td>\n",
              "      <td>125510.82</td>\n",
              "      <td>1</td>\n",
              "      <td>1</td>\n",
              "      <td>1</td>\n",
              "      <td>79084.10</td>\n",
              "      <td>0</td>\n",
              "      <td>среднего возраста</td>\n",
              "      <td>4</td>\n",
              "      <td>0</td>\n",
              "      <td>1</td>\n",
              "      <td>0</td>\n",
              "      <td>1</td>\n",
              "      <td>0</td>\n",
              "    </tr>\n",
              "    <tr>\n",
              "      <th>...</th>\n",
              "      <td>...</td>\n",
              "      <td>...</td>\n",
              "      <td>...</td>\n",
              "      <td>...</td>\n",
              "      <td>...</td>\n",
              "      <td>...</td>\n",
              "      <td>...</td>\n",
              "      <td>...</td>\n",
              "      <td>...</td>\n",
              "      <td>...</td>\n",
              "      <td>...</td>\n",
              "      <td>...</td>\n",
              "      <td>...</td>\n",
              "      <td>...</td>\n",
              "      <td>...</td>\n",
              "      <td>...</td>\n",
              "      <td>...</td>\n",
              "      <td>...</td>\n",
              "      <td>...</td>\n",
              "    </tr>\n",
              "    <tr>\n",
              "      <th>9995</th>\n",
              "      <td>15648965</td>\n",
              "      <td>771</td>\n",
              "      <td>Ярославль</td>\n",
              "      <td>М</td>\n",
              "      <td>39</td>\n",
              "      <td>5</td>\n",
              "      <td>NaN</td>\n",
              "      <td>2</td>\n",
              "      <td>1</td>\n",
              "      <td>0</td>\n",
              "      <td>96270.64</td>\n",
              "      <td>0</td>\n",
              "      <td>среднего возраста</td>\n",
              "      <td>9995</td>\n",
              "      <td>0</td>\n",
              "      <td>0</td>\n",
              "      <td>1</td>\n",
              "      <td>0</td>\n",
              "      <td>1</td>\n",
              "    </tr>\n",
              "    <tr>\n",
              "      <th>9996</th>\n",
              "      <td>15612628</td>\n",
              "      <td>516</td>\n",
              "      <td>Ярославль</td>\n",
              "      <td>М</td>\n",
              "      <td>35</td>\n",
              "      <td>10</td>\n",
              "      <td>57369.61</td>\n",
              "      <td>1</td>\n",
              "      <td>1</td>\n",
              "      <td>1</td>\n",
              "      <td>101699.77</td>\n",
              "      <td>0</td>\n",
              "      <td>среднего возраста</td>\n",
              "      <td>9996</td>\n",
              "      <td>0</td>\n",
              "      <td>0</td>\n",
              "      <td>1</td>\n",
              "      <td>0</td>\n",
              "      <td>1</td>\n",
              "    </tr>\n",
              "    <tr>\n",
              "      <th>9997</th>\n",
              "      <td>15627268</td>\n",
              "      <td>709</td>\n",
              "      <td>Ярославль</td>\n",
              "      <td>Ж</td>\n",
              "      <td>36</td>\n",
              "      <td>7</td>\n",
              "      <td>NaN</td>\n",
              "      <td>1</td>\n",
              "      <td>0</td>\n",
              "      <td>1</td>\n",
              "      <td>42085.58</td>\n",
              "      <td>1</td>\n",
              "      <td>среднего возраста</td>\n",
              "      <td>9997</td>\n",
              "      <td>0</td>\n",
              "      <td>0</td>\n",
              "      <td>1</td>\n",
              "      <td>1</td>\n",
              "      <td>0</td>\n",
              "    </tr>\n",
              "    <tr>\n",
              "      <th>9998</th>\n",
              "      <td>15725091</td>\n",
              "      <td>772</td>\n",
              "      <td>Ростов Великий</td>\n",
              "      <td>М</td>\n",
              "      <td>42</td>\n",
              "      <td>3</td>\n",
              "      <td>75075.31</td>\n",
              "      <td>2</td>\n",
              "      <td>1</td>\n",
              "      <td>0</td>\n",
              "      <td>92888.52</td>\n",
              "      <td>1</td>\n",
              "      <td>среднего возраста</td>\n",
              "      <td>9998</td>\n",
              "      <td>1</td>\n",
              "      <td>0</td>\n",
              "      <td>0</td>\n",
              "      <td>0</td>\n",
              "      <td>1</td>\n",
              "    </tr>\n",
              "    <tr>\n",
              "      <th>9999</th>\n",
              "      <td>15671055</td>\n",
              "      <td>792</td>\n",
              "      <td>Ярославль</td>\n",
              "      <td>Ж</td>\n",
              "      <td>28</td>\n",
              "      <td>4</td>\n",
              "      <td>130142.79</td>\n",
              "      <td>1</td>\n",
              "      <td>1</td>\n",
              "      <td>0</td>\n",
              "      <td>38190.78</td>\n",
              "      <td>0</td>\n",
              "      <td>молодой</td>\n",
              "      <td>9999</td>\n",
              "      <td>0</td>\n",
              "      <td>0</td>\n",
              "      <td>1</td>\n",
              "      <td>1</td>\n",
              "      <td>0</td>\n",
              "    </tr>\n",
              "  </tbody>\n",
              "</table>\n",
              "<p>10000 rows × 19 columns</p>\n",
              "</div>\n",
              "      <button class=\"colab-df-convert\" onclick=\"convertToInteractive('df-4f1a14a1-a23b-4a48-853c-87e58c5b6fbb')\"\n",
              "              title=\"Convert this dataframe to an interactive table.\"\n",
              "              style=\"display:none;\">\n",
              "        \n",
              "  <svg xmlns=\"http://www.w3.org/2000/svg\" height=\"24px\"viewBox=\"0 0 24 24\"\n",
              "       width=\"24px\">\n",
              "    <path d=\"M0 0h24v24H0V0z\" fill=\"none\"/>\n",
              "    <path d=\"M18.56 5.44l.94 2.06.94-2.06 2.06-.94-2.06-.94-.94-2.06-.94 2.06-2.06.94zm-11 1L8.5 8.5l.94-2.06 2.06-.94-2.06-.94L8.5 2.5l-.94 2.06-2.06.94zm10 10l.94 2.06.94-2.06 2.06-.94-2.06-.94-.94-2.06-.94 2.06-2.06.94z\"/><path d=\"M17.41 7.96l-1.37-1.37c-.4-.4-.92-.59-1.43-.59-.52 0-1.04.2-1.43.59L10.3 9.45l-7.72 7.72c-.78.78-.78 2.05 0 2.83L4 21.41c.39.39.9.59 1.41.59.51 0 1.02-.2 1.41-.59l7.78-7.78 2.81-2.81c.8-.78.8-2.07 0-2.86zM5.41 20L4 18.59l7.72-7.72 1.47 1.35L5.41 20z\"/>\n",
              "  </svg>\n",
              "      </button>\n",
              "      \n",
              "  <style>\n",
              "    .colab-df-container {\n",
              "      display:flex;\n",
              "      flex-wrap:wrap;\n",
              "      gap: 12px;\n",
              "    }\n",
              "\n",
              "    .colab-df-convert {\n",
              "      background-color: #E8F0FE;\n",
              "      border: none;\n",
              "      border-radius: 50%;\n",
              "      cursor: pointer;\n",
              "      display: none;\n",
              "      fill: #1967D2;\n",
              "      height: 32px;\n",
              "      padding: 0 0 0 0;\n",
              "      width: 32px;\n",
              "    }\n",
              "\n",
              "    .colab-df-convert:hover {\n",
              "      background-color: #E2EBFA;\n",
              "      box-shadow: 0px 1px 2px rgba(60, 64, 67, 0.3), 0px 1px 3px 1px rgba(60, 64, 67, 0.15);\n",
              "      fill: #174EA6;\n",
              "    }\n",
              "\n",
              "    [theme=dark] .colab-df-convert {\n",
              "      background-color: #3B4455;\n",
              "      fill: #D2E3FC;\n",
              "    }\n",
              "\n",
              "    [theme=dark] .colab-df-convert:hover {\n",
              "      background-color: #434B5C;\n",
              "      box-shadow: 0px 1px 3px 1px rgba(0, 0, 0, 0.15);\n",
              "      filter: drop-shadow(0px 1px 2px rgba(0, 0, 0, 0.3));\n",
              "      fill: #FFFFFF;\n",
              "    }\n",
              "  </style>\n",
              "\n",
              "      <script>\n",
              "        const buttonEl =\n",
              "          document.querySelector('#df-4f1a14a1-a23b-4a48-853c-87e58c5b6fbb button.colab-df-convert');\n",
              "        buttonEl.style.display =\n",
              "          google.colab.kernel.accessAllowed ? 'block' : 'none';\n",
              "\n",
              "        async function convertToInteractive(key) {\n",
              "          const element = document.querySelector('#df-4f1a14a1-a23b-4a48-853c-87e58c5b6fbb');\n",
              "          const dataTable =\n",
              "            await google.colab.kernel.invokeFunction('convertToInteractive',\n",
              "                                                     [key], {});\n",
              "          if (!dataTable) return;\n",
              "\n",
              "          const docLinkHtml = 'Like what you see? Visit the ' +\n",
              "            '<a target=\"_blank\" href=https://colab.research.google.com/notebooks/data_table.ipynb>data table notebook</a>'\n",
              "            + ' to learn more about interactive tables.';\n",
              "          element.innerHTML = '';\n",
              "          dataTable['output_type'] = 'display_data';\n",
              "          await google.colab.output.renderOutput(dataTable, element);\n",
              "          const docLink = document.createElement('div');\n",
              "          docLink.innerHTML = docLinkHtml;\n",
              "          element.appendChild(docLink);\n",
              "        }\n",
              "      </script>\n",
              "    </div>\n",
              "  </div>\n",
              "  "
            ],
            "text/plain": [
              "        userid  score            city gender  age  objects    balance  \\\n",
              "0     15677338    619       Ярославль      Ж   42        2        NaN   \n",
              "1     15690047    608         Рыбинск      Ж   41        1   83807.86   \n",
              "2     15662040    502       Ярославль      Ж   42        8  159660.80   \n",
              "3     15744090    699       Ярославль      Ж   39        1        NaN   \n",
              "4     15780624    850         Рыбинск      Ж   43        2  125510.82   \n",
              "...        ...    ...             ...    ...  ...      ...        ...   \n",
              "9995  15648965    771       Ярославль      М   39        5        NaN   \n",
              "9996  15612628    516       Ярославль      М   35       10   57369.61   \n",
              "9997  15627268    709       Ярославль      Ж   36        7        NaN   \n",
              "9998  15725091    772  Ростов Великий      М   42        3   75075.31   \n",
              "9999  15671055    792       Ярославль      Ж   28        4  130142.79   \n",
              "\n",
              "      products  creditcard  loyalty  estimated_salary  churn  \\\n",
              "0            1           1        1         101348.88      1   \n",
              "1            1           0        1         112542.58      0   \n",
              "2            3           1        0         113931.57      1   \n",
              "3            2           0        0          93826.63      0   \n",
              "4            1           1        1          79084.10      0   \n",
              "...        ...         ...      ...               ...    ...   \n",
              "9995         2           1        0          96270.64      0   \n",
              "9996         1           1        1         101699.77      0   \n",
              "9997         1           0        1          42085.58      1   \n",
              "9998         2           1        0          92888.52      1   \n",
              "9999         1           1        0          38190.78      0   \n",
              "\n",
              "                age_cat  index  Ростов Великий  Рыбинск  Ярославль  Ж  М  \n",
              "0     среднего возраста      0               0        0          1  1  0  \n",
              "1     среднего возраста      1               0        1          0  1  0  \n",
              "2     среднего возраста      2               0        0          1  1  0  \n",
              "3     среднего возраста      3               0        0          1  1  0  \n",
              "4     среднего возраста      4               0        1          0  1  0  \n",
              "...                 ...    ...             ...      ...        ... .. ..  \n",
              "9995  среднего возраста   9995               0        0          1  0  1  \n",
              "9996  среднего возраста   9996               0        0          1  0  1  \n",
              "9997  среднего возраста   9997               0        0          1  1  0  \n",
              "9998  среднего возраста   9998               1        0          0  0  1  \n",
              "9999            молодой   9999               0        0          1  1  0  \n",
              "\n",
              "[10000 rows x 19 columns]"
            ]
          },
          "execution_count": 167,
          "metadata": {},
          "output_type": "execute_result"
        }
      ],
      "source": [
        "bank['index'] = np.arange(bank.shape[0])\n",
        "bank_new = pd.get_dummies(bank['city']).reset_index()\n",
        "bank = bank.merge(bank_new, how='left', on='index')\n",
        "bank_n = pd.get_dummies(bank['gender']).reset_index()\n",
        "bank = bank.merge(bank_n, how='right', on='index')\n",
        "bank"
      ]
    },
    {
      "cell_type": "code",
      "execution_count": null,
      "metadata": {
        "colab": {
          "base_uri": "https://localhost:8080/",
          "height": 683
        },
        "id": "VANTcDFBQ1Kn",
        "outputId": "79e3a035-ffa9-45cb-9c91-eaa1ed191f9c"
      },
      "outputs": [
        {
          "data": {
            "image/png": "[encoded data removed]",
            "text/plain": [
              "<Figure size 1008x720 with 2 Axes>"
            ]
          },
          "metadata": {
            "needs_background": "light"
          },
          "output_type": "display_data"
        }
      ],
      "source": [
        "#Построим матрицу корреляций\n",
        "plt.figure(figsize=(14,10))\n",
        "sns.heatmap(data = bank.corr(), annot=True, square=True, cmap='YlGnBu')\n",
        "plt.title('Матрица корреляций')\n",
        "plt.show()"
      ]
    },
    {
      "cell_type": "markdown",
      "metadata": {
        "id": "vcXFPFRyw0yE"
      },
      "source": [
        "### 2.2 Сформулировать промежуточный вывод"
      ]
    },
    {
      "cell_type": "markdown",
      "metadata": {
        "id": "FAlw7UQXVtma"
      },
      "source": [
        "Исходя из выше проделанной работы, можем сказать, что явной взаимосвязи между количеством купленных продуктов и остальными критериями нет"
      ]
    },
    {
      "cell_type": "markdown",
      "metadata": {
        "id": "KcH9or0DwjWp"
      },
      "source": [
        "##  3. Сегментация"
      ]
    },
    {
      "cell_type": "markdown",
      "metadata": {
        "id": "EUOrU8WeUrLg"
      },
      "source": [
        "### 3.1 Сегментируем покупателей по количеству купленных продуктов"
      ]
    },
    {
      "cell_type": "code",
      "execution_count": null,
      "metadata": {
        "colab": {
          "base_uri": "https://localhost:8080/",
          "height": 381
        },
        "id": "YUUsZ9_hUbKr",
        "outputId": "3bdcac70-da59-4952-f932-0509297bd365"
      },
      "outputs": [
        {
          "data": {
            "text/html": [
              "\n",
              "  <div id=\"df-fb656181-7053-408a-8404-796a18483b40\">\n",
              "    <div class=\"colab-df-container\">\n",
              "      <div>\n",
              "<style scoped>\n",
              "    .dataframe tbody tr th:only-of-type {\n",
              "        vertical-align: middle;\n",
              "    }\n",
              "\n",
              "    .dataframe tbody tr th {\n",
              "        vertical-align: top;\n",
              "    }\n",
              "\n",
              "    .dataframe thead th {\n",
              "        text-align: right;\n",
              "    }\n",
              "</style>\n",
              "<table border=\"1\" class=\"dataframe\">\n",
              "  <thead>\n",
              "    <tr style=\"text-align: right;\">\n",
              "      <th></th>\n",
              "      <th>userid</th>\n",
              "      <th>score</th>\n",
              "      <th>age</th>\n",
              "      <th>objects</th>\n",
              "      <th>balance</th>\n",
              "      <th>products</th>\n",
              "      <th>creditcard</th>\n",
              "      <th>loyalty</th>\n",
              "      <th>estimated_salary</th>\n",
              "      <th>churn</th>\n",
              "      <th>index</th>\n",
              "      <th>Ростов Великий</th>\n",
              "      <th>Рыбинск</th>\n",
              "      <th>Ярославль</th>\n",
              "      <th>Ж</th>\n",
              "      <th>М</th>\n",
              "    </tr>\n",
              "  </thead>\n",
              "  <tbody>\n",
              "    <tr>\n",
              "      <th>count</th>\n",
              "      <td>5.084000e+03</td>\n",
              "      <td>5084.000000</td>\n",
              "      <td>5084.000000</td>\n",
              "      <td>5084.000000</td>\n",
              "      <td>4179.000000</td>\n",
              "      <td>5084.0</td>\n",
              "      <td>5084.000000</td>\n",
              "      <td>5084.000000</td>\n",
              "      <td>5084.000000</td>\n",
              "      <td>5084.000000</td>\n",
              "      <td>5084.000000</td>\n",
              "      <td>5084.000000</td>\n",
              "      <td>5084.000000</td>\n",
              "      <td>5084.000000</td>\n",
              "      <td>5084.000000</td>\n",
              "      <td>5084.000000</td>\n",
              "    </tr>\n",
              "    <tr>\n",
              "      <th>mean</th>\n",
              "      <td>1.573237e+07</td>\n",
              "      <td>649.120968</td>\n",
              "      <td>39.673092</td>\n",
              "      <td>4.974626</td>\n",
              "      <td>119894.163723</td>\n",
              "      <td>1.0</td>\n",
              "      <td>0.703777</td>\n",
              "      <td>0.504131</td>\n",
              "      <td>99487.256851</td>\n",
              "      <td>0.277144</td>\n",
              "      <td>4972.034225</td>\n",
              "      <td>0.265342</td>\n",
              "      <td>0.240165</td>\n",
              "      <td>0.494493</td>\n",
              "      <td>0.451613</td>\n",
              "      <td>0.548387</td>\n",
              "    </tr>\n",
              "    <tr>\n",
              "      <th>std</th>\n",
              "      <td>7.216578e+04</td>\n",
              "      <td>97.203710</td>\n",
              "      <td>10.659566</td>\n",
              "      <td>2.914269</td>\n",
              "      <td>29804.134035</td>\n",
              "      <td>0.0</td>\n",
              "      <td>0.456636</td>\n",
              "      <td>0.500032</td>\n",
              "      <td>57363.626412</td>\n",
              "      <td>0.447632</td>\n",
              "      <td>2883.184757</td>\n",
              "      <td>0.441559</td>\n",
              "      <td>0.427226</td>\n",
              "      <td>0.500019</td>\n",
              "      <td>0.497702</td>\n",
              "      <td>0.497702</td>\n",
              "    </tr>\n",
              "    <tr>\n",
              "      <th>min</th>\n",
              "      <td>1.560844e+07</td>\n",
              "      <td>350.000000</td>\n",
              "      <td>18.000000</td>\n",
              "      <td>0.000000</td>\n",
              "      <td>12459.190000</td>\n",
              "      <td>1.0</td>\n",
              "      <td>0.000000</td>\n",
              "      <td>0.000000</td>\n",
              "      <td>11.580000</td>\n",
              "      <td>0.000000</td>\n",
              "      <td>0.000000</td>\n",
              "      <td>0.000000</td>\n",
              "      <td>0.000000</td>\n",
              "      <td>0.000000</td>\n",
              "      <td>0.000000</td>\n",
              "      <td>0.000000</td>\n",
              "    </tr>\n",
              "    <tr>\n",
              "      <th>25%</th>\n",
              "      <td>1.566940e+07</td>\n",
              "      <td>581.000000</td>\n",
              "      <td>32.000000</td>\n",
              "      <td>2.000000</td>\n",
              "      <td>100440.185000</td>\n",
              "      <td>1.0</td>\n",
              "      <td>0.000000</td>\n",
              "      <td>0.000000</td>\n",
              "      <td>50414.515000</td>\n",
              "      <td>0.000000</td>\n",
              "      <td>2486.500000</td>\n",
              "      <td>0.000000</td>\n",
              "      <td>0.000000</td>\n",
              "      <td>0.000000</td>\n",
              "      <td>0.000000</td>\n",
              "      <td>0.000000</td>\n",
              "    </tr>\n",
              "    <tr>\n",
              "      <th>50%</th>\n",
              "      <td>1.573206e+07</td>\n",
              "      <td>651.000000</td>\n",
              "      <td>38.000000</td>\n",
              "      <td>5.000000</td>\n",
              "      <td>119919.120000</td>\n",
              "      <td>1.0</td>\n",
              "      <td>1.000000</td>\n",
              "      <td>1.000000</td>\n",
              "      <td>99226.830000</td>\n",
              "      <td>0.000000</td>\n",
              "      <td>4937.000000</td>\n",
              "      <td>0.000000</td>\n",
              "      <td>0.000000</td>\n",
              "      <td>0.000000</td>\n",
              "      <td>0.000000</td>\n",
              "      <td>1.000000</td>\n",
              "    </tr>\n",
              "    <tr>\n",
              "      <th>75%</th>\n",
              "      <td>1.579434e+07</td>\n",
              "      <td>717.000000</td>\n",
              "      <td>45.000000</td>\n",
              "      <td>7.000000</td>\n",
              "      <td>139442.110000</td>\n",
              "      <td>1.0</td>\n",
              "      <td>1.000000</td>\n",
              "      <td>1.000000</td>\n",
              "      <td>148212.695000</td>\n",
              "      <td>1.000000</td>\n",
              "      <td>7443.500000</td>\n",
              "      <td>1.000000</td>\n",
              "      <td>0.000000</td>\n",
              "      <td>1.000000</td>\n",
              "      <td>1.000000</td>\n",
              "      <td>1.000000</td>\n",
              "    </tr>\n",
              "    <tr>\n",
              "      <th>max</th>\n",
              "      <td>1.585843e+07</td>\n",
              "      <td>850.000000</td>\n",
              "      <td>92.000000</td>\n",
              "      <td>10.000000</td>\n",
              "      <td>238387.560000</td>\n",
              "      <td>1.0</td>\n",
              "      <td>1.000000</td>\n",
              "      <td>1.000000</td>\n",
              "      <td>199970.740000</td>\n",
              "      <td>1.000000</td>\n",
              "      <td>9999.000000</td>\n",
              "      <td>1.000000</td>\n",
              "      <td>1.000000</td>\n",
              "      <td>1.000000</td>\n",
              "      <td>1.000000</td>\n",
              "      <td>1.000000</td>\n",
              "    </tr>\n",
              "  </tbody>\n",
              "</table>\n",
              "</div>\n",
              "      <button class=\"colab-df-convert\" onclick=\"convertToInteractive('df-fb656181-7053-408a-8404-796a18483b40')\"\n",
              "              title=\"Convert this dataframe to an interactive table.\"\n",
              "              style=\"display:none;\">\n",
              "        \n",
              "  <svg xmlns=\"http://www.w3.org/2000/svg\" height=\"24px\"viewBox=\"0 0 24 24\"\n",
              "       width=\"24px\">\n",
              "    <path d=\"M0 0h24v24H0V0z\" fill=\"none\"/>\n",
              "    <path d=\"M18.56 5.44l.94 2.06.94-2.06 2.06-.94-2.06-.94-.94-2.06-.94 2.06-2.06.94zm-11 1L8.5 8.5l.94-2.06 2.06-.94-2.06-.94L8.5 2.5l-.94 2.06-2.06.94zm10 10l.94 2.06.94-2.06 2.06-.94-2.06-.94-.94-2.06-.94 2.06-2.06.94z\"/><path d=\"M17.41 7.96l-1.37-1.37c-.4-.4-.92-.59-1.43-.59-.52 0-1.04.2-1.43.59L10.3 9.45l-7.72 7.72c-.78.78-.78 2.05 0 2.83L4 21.41c.39.39.9.59 1.41.59.51 0 1.02-.2 1.41-.59l7.78-7.78 2.81-2.81c.8-.78.8-2.07 0-2.86zM5.41 20L4 18.59l7.72-7.72 1.47 1.35L5.41 20z\"/>\n",
              "  </svg>\n",
              "      </button>\n",
              "      \n",
              "  <style>\n",
              "    .colab-df-container {\n",
              "      display:flex;\n",
              "      flex-wrap:wrap;\n",
              "      gap: 12px;\n",
              "    }\n",
              "\n",
              "    .colab-df-convert {\n",
              "      background-color: #E8F0FE;\n",
              "      border: none;\n",
              "      border-radius: 50%;\n",
              "      cursor: pointer;\n",
              "      display: none;\n",
              "      fill: #1967D2;\n",
              "      height: 32px;\n",
              "      padding: 0 0 0 0;\n",
              "      width: 32px;\n",
              "    }\n",
              "\n",
              "    .colab-df-convert:hover {\n",
              "      background-color: #E2EBFA;\n",
              "      box-shadow: 0px 1px 2px rgba(60, 64, 67, 0.3), 0px 1px 3px 1px rgba(60, 64, 67, 0.15);\n",
              "      fill: #174EA6;\n",
              "    }\n",
              "\n",
              "    [theme=dark] .colab-df-convert {\n",
              "      background-color: #3B4455;\n",
              "      fill: #D2E3FC;\n",
              "    }\n",
              "\n",
              "    [theme=dark] .colab-df-convert:hover {\n",
              "      background-color: #434B5C;\n",
              "      box-shadow: 0px 1px 3px 1px rgba(0, 0, 0, 0.15);\n",
              "      filter: drop-shadow(0px 1px 2px rgba(0, 0, 0, 0.3));\n",
              "      fill: #FFFFFF;\n",
              "    }\n",
              "  </style>\n",
              "\n",
              "      <script>\n",
              "        const buttonEl =\n",
              "          document.querySelector('#df-fb656181-7053-408a-8404-796a18483b40 button.colab-df-convert');\n",
              "        buttonEl.style.display =\n",
              "          google.colab.kernel.accessAllowed ? 'block' : 'none';\n",
              "\n",
              "        async function convertToInteractive(key) {\n",
              "          const element = document.querySelector('#df-fb656181-7053-408a-8404-796a18483b40');\n",
              "          const dataTable =\n",
              "            await google.colab.kernel.invokeFunction('convertToInteractive',\n",
              "                                                     [key], {});\n",
              "          if (!dataTable) return;\n",
              "\n",
              "          const docLinkHtml = 'Like what you see? Visit the ' +\n",
              "            '<a target=\"_blank\" href=https://colab.research.google.com/notebooks/data_table.ipynb>data table notebook</a>'\n",
              "            + ' to learn more about interactive tables.';\n",
              "          element.innerHTML = '';\n",
              "          dataTable['output_type'] = 'display_data';\n",
              "          await google.colab.output.renderOutput(dataTable, element);\n",
              "          const docLink = document.createElement('div');\n",
              "          docLink.innerHTML = docLinkHtml;\n",
              "          element.appendChild(docLink);\n",
              "        }\n",
              "      </script>\n",
              "    </div>\n",
              "  </div>\n",
              "  "
            ],
            "text/plain": [
              "             userid        score          age      objects        balance  \\\n",
              "count  5.084000e+03  5084.000000  5084.000000  5084.000000    4179.000000   \n",
              "mean   1.573237e+07   649.120968    39.673092     4.974626  119894.163723   \n",
              "std    7.216578e+04    97.203710    10.659566     2.914269   29804.134035   \n",
              "min    1.560844e+07   350.000000    18.000000     0.000000   12459.190000   \n",
              "25%    1.566940e+07   581.000000    32.000000     2.000000  100440.185000   \n",
              "50%    1.573206e+07   651.000000    38.000000     5.000000  119919.120000   \n",
              "75%    1.579434e+07   717.000000    45.000000     7.000000  139442.110000   \n",
              "max    1.585843e+07   850.000000    92.000000    10.000000  238387.560000   \n",
              "\n",
              "       products   creditcard      loyalty  estimated_salary        churn  \\\n",
              "count    5084.0  5084.000000  5084.000000       5084.000000  5084.000000   \n",
              "mean        1.0     0.703777     0.504131      99487.256851     0.277144   \n",
              "std         0.0     0.456636     0.500032      57363.626412     0.447632   \n",
              "min         1.0     0.000000     0.000000         11.580000     0.000000   \n",
              "25%         1.0     0.000000     0.000000      50414.515000     0.000000   \n",
              "50%         1.0     1.000000     1.000000      99226.830000     0.000000   \n",
              "75%         1.0     1.000000     1.000000     148212.695000     1.000000   \n",
              "max         1.0     1.000000     1.000000     199970.740000     1.000000   \n",
              "\n",
              "             index  Ростов Великий      Рыбинск    Ярославль            Ж  \\\n",
              "count  5084.000000     5084.000000  5084.000000  5084.000000  5084.000000   \n",
              "mean   4972.034225        0.265342     0.240165     0.494493     0.451613   \n",
              "std    2883.184757        0.441559     0.427226     0.500019     0.497702   \n",
              "min       0.000000        0.000000     0.000000     0.000000     0.000000   \n",
              "25%    2486.500000        0.000000     0.000000     0.000000     0.000000   \n",
              "50%    4937.000000        0.000000     0.000000     0.000000     0.000000   \n",
              "75%    7443.500000        1.000000     0.000000     1.000000     1.000000   \n",
              "max    9999.000000        1.000000     1.000000     1.000000     1.000000   \n",
              "\n",
              "                 М  \n",
              "count  5084.000000  \n",
              "mean      0.548387  \n",
              "std       0.497702  \n",
              "min       0.000000  \n",
              "25%       0.000000  \n",
              "50%       1.000000  \n",
              "75%       1.000000  \n",
              "max       1.000000  "
            ]
          },
          "execution_count": 169,
          "metadata": {},
          "output_type": "execute_result"
        }
      ],
      "source": [
        "bank.query('products==1').describe()"
      ]
    },
    {
      "cell_type": "code",
      "execution_count": null,
      "metadata": {
        "colab": {
          "base_uri": "https://localhost:8080/"
        },
        "id": "Hq3GjMPZWJ8y",
        "outputId": "18895faa-2d1c-4953-d19c-e9ac5aa81566"
      },
      "outputs": [
        {
          "data": {
            "text/plain": [
              "age_cat\n",
              "молодой               910\n",
              "пожилой               447\n",
              "среднего возраста    3727\n",
              "Name: userid, dtype: int64"
            ]
          },
          "execution_count": 170,
          "metadata": {},
          "output_type": "execute_result"
        }
      ],
      "source": [
        "bank.query('products==1').groupby('age_cat')['userid'].count()"
      ]
    },
    {
      "cell_type": "markdown",
      "metadata": {
        "id": "ea2mua6ZdI26"
      },
      "source": [
        "Охарактеризуем людей, преобретающих 1 продукт:\n",
        "1. Средний возраст - 40 лет\n",
        "2. Среднее количество объектов в собственности - 5\n",
        "3. Средний баланс - 120000\n",
        "4. Приблизительно у 70% клиентов есть кредитная карта\n",
        "5. Половина пользователей активна\n",
        "6. Средняя заработная плата - 99000 \n",
        "7. Отток составляет **28%**"
      ]
    },
    {
      "cell_type": "code",
      "execution_count": null,
      "metadata": {
        "colab": {
          "base_uri": "https://localhost:8080/",
          "height": 381
        },
        "id": "hd5TGuxlci_R",
        "outputId": "4b37683f-4584-4b70-e857-ec609a3de2cd"
      },
      "outputs": [
        {
          "data": {
            "text/html": [
              "\n",
              "  <div id=\"df-57aafea5-13ab-42bb-bb96-56758c3d8130\">\n",
              "    <div class=\"colab-df-container\">\n",
              "      <div>\n",
              "<style scoped>\n",
              "    .dataframe tbody tr th:only-of-type {\n",
              "        vertical-align: middle;\n",
              "    }\n",
              "\n",
              "    .dataframe tbody tr th {\n",
              "        vertical-align: top;\n",
              "    }\n",
              "\n",
              "    .dataframe thead th {\n",
              "        text-align: right;\n",
              "    }\n",
              "</style>\n",
              "<table border=\"1\" class=\"dataframe\">\n",
              "  <thead>\n",
              "    <tr style=\"text-align: right;\">\n",
              "      <th></th>\n",
              "      <th>userid</th>\n",
              "      <th>score</th>\n",
              "      <th>age</th>\n",
              "      <th>objects</th>\n",
              "      <th>balance</th>\n",
              "      <th>products</th>\n",
              "      <th>creditcard</th>\n",
              "      <th>loyalty</th>\n",
              "      <th>estimated_salary</th>\n",
              "      <th>churn</th>\n",
              "      <th>index</th>\n",
              "      <th>Ростов Великий</th>\n",
              "      <th>Рыбинск</th>\n",
              "      <th>Ярославль</th>\n",
              "      <th>Ж</th>\n",
              "      <th>М</th>\n",
              "    </tr>\n",
              "  </thead>\n",
              "  <tbody>\n",
              "    <tr>\n",
              "      <th>count</th>\n",
              "      <td>4.590000e+03</td>\n",
              "      <td>4590.000000</td>\n",
              "      <td>4590.000000</td>\n",
              "      <td>4590.000000</td>\n",
              "      <td>1990.000000</td>\n",
              "      <td>4590.0</td>\n",
              "      <td>4590.000000</td>\n",
              "      <td>4590.000000</td>\n",
              "      <td>4590.000000</td>\n",
              "      <td>4590.000000</td>\n",
              "      <td>4590.000000</td>\n",
              "      <td>4590.000000</td>\n",
              "      <td>4590.000000</td>\n",
              "      <td>4590.000000</td>\n",
              "      <td>4590.000000</td>\n",
              "      <td>4590.000000</td>\n",
              "    </tr>\n",
              "    <tr>\n",
              "      <th>mean</th>\n",
              "      <td>1.573484e+07</td>\n",
              "      <td>652.188671</td>\n",
              "      <td>37.753595</td>\n",
              "      <td>5.051852</td>\n",
              "      <td>119660.944362</td>\n",
              "      <td>2.0</td>\n",
              "      <td>0.707190</td>\n",
              "      <td>0.532898</td>\n",
              "      <td>100452.012821</td>\n",
              "      <td>0.075817</td>\n",
              "      <td>5036.120479</td>\n",
              "      <td>0.226580</td>\n",
              "      <td>0.257734</td>\n",
              "      <td>0.515686</td>\n",
              "      <td>0.448802</td>\n",
              "      <td>0.551198</td>\n",
              "    </tr>\n",
              "    <tr>\n",
              "      <th>std</th>\n",
              "      <td>7.156542e+04</td>\n",
              "      <td>96.066831</td>\n",
              "      <td>10.145663</td>\n",
              "      <td>2.867741</td>\n",
              "      <td>30647.376666</td>\n",
              "      <td>0.0</td>\n",
              "      <td>0.455102</td>\n",
              "      <td>0.498971</td>\n",
              "      <td>57790.799984</td>\n",
              "      <td>0.264734</td>\n",
              "      <td>2895.285983</td>\n",
              "      <td>0.418664</td>\n",
              "      <td>0.437435</td>\n",
              "      <td>0.499808</td>\n",
              "      <td>0.497426</td>\n",
              "      <td>0.497426</td>\n",
              "    </tr>\n",
              "    <tr>\n",
              "      <th>min</th>\n",
              "      <td>1.560845e+07</td>\n",
              "      <td>350.000000</td>\n",
              "      <td>18.000000</td>\n",
              "      <td>0.000000</td>\n",
              "      <td>3768.690000</td>\n",
              "      <td>2.0</td>\n",
              "      <td>0.000000</td>\n",
              "      <td>0.000000</td>\n",
              "      <td>90.070000</td>\n",
              "      <td>0.000000</td>\n",
              "      <td>3.000000</td>\n",
              "      <td>0.000000</td>\n",
              "      <td>0.000000</td>\n",
              "      <td>0.000000</td>\n",
              "      <td>0.000000</td>\n",
              "      <td>0.000000</td>\n",
              "    </tr>\n",
              "    <tr>\n",
              "      <th>25%</th>\n",
              "      <td>1.567420e+07</td>\n",
              "      <td>586.000000</td>\n",
              "      <td>31.000000</td>\n",
              "      <td>3.000000</td>\n",
              "      <td>99179.367500</td>\n",
              "      <td>2.0</td>\n",
              "      <td>0.000000</td>\n",
              "      <td>0.000000</td>\n",
              "      <td>50797.287500</td>\n",
              "      <td>0.000000</td>\n",
              "      <td>2514.500000</td>\n",
              "      <td>0.000000</td>\n",
              "      <td>0.000000</td>\n",
              "      <td>0.000000</td>\n",
              "      <td>0.000000</td>\n",
              "      <td>0.000000</td>\n",
              "    </tr>\n",
              "    <tr>\n",
              "      <th>50%</th>\n",
              "      <td>1.573578e+07</td>\n",
              "      <td>653.000000</td>\n",
              "      <td>36.000000</td>\n",
              "      <td>5.000000</td>\n",
              "      <td>119762.245000</td>\n",
              "      <td>2.0</td>\n",
              "      <td>1.000000</td>\n",
              "      <td>1.000000</td>\n",
              "      <td>100738.855000</td>\n",
              "      <td>0.000000</td>\n",
              "      <td>5067.500000</td>\n",
              "      <td>0.000000</td>\n",
              "      <td>0.000000</td>\n",
              "      <td>1.000000</td>\n",
              "      <td>0.000000</td>\n",
              "      <td>1.000000</td>\n",
              "    </tr>\n",
              "    <tr>\n",
              "      <th>75%</th>\n",
              "      <td>1.579700e+07</td>\n",
              "      <td>719.000000</td>\n",
              "      <td>42.000000</td>\n",
              "      <td>7.000000</td>\n",
              "      <td>139556.932500</td>\n",
              "      <td>2.0</td>\n",
              "      <td>1.000000</td>\n",
              "      <td>1.000000</td>\n",
              "      <td>150151.460000</td>\n",
              "      <td>0.000000</td>\n",
              "      <td>7580.250000</td>\n",
              "      <td>0.000000</td>\n",
              "      <td>1.000000</td>\n",
              "      <td>1.000000</td>\n",
              "      <td>1.000000</td>\n",
              "      <td>1.000000</td>\n",
              "    </tr>\n",
              "    <tr>\n",
              "      <th>max</th>\n",
              "      <td>1.585838e+07</td>\n",
              "      <td>850.000000</td>\n",
              "      <td>92.000000</td>\n",
              "      <td>10.000000</td>\n",
              "      <td>214346.960000</td>\n",
              "      <td>2.0</td>\n",
              "      <td>1.000000</td>\n",
              "      <td>1.000000</td>\n",
              "      <td>199992.480000</td>\n",
              "      <td>1.000000</td>\n",
              "      <td>9998.000000</td>\n",
              "      <td>1.000000</td>\n",
              "      <td>1.000000</td>\n",
              "      <td>1.000000</td>\n",
              "      <td>1.000000</td>\n",
              "      <td>1.000000</td>\n",
              "    </tr>\n",
              "  </tbody>\n",
              "</table>\n",
              "</div>\n",
              "      <button class=\"colab-df-convert\" onclick=\"convertToInteractive('df-57aafea5-13ab-42bb-bb96-56758c3d8130')\"\n",
              "              title=\"Convert this dataframe to an interactive table.\"\n",
              "              style=\"display:none;\">\n",
              "        \n",
              "  <svg xmlns=\"http://www.w3.org/2000/svg\" height=\"24px\"viewBox=\"0 0 24 24\"\n",
              "       width=\"24px\">\n",
              "    <path d=\"M0 0h24v24H0V0z\" fill=\"none\"/>\n",
              "    <path d=\"M18.56 5.44l.94 2.06.94-2.06 2.06-.94-2.06-.94-.94-2.06-.94 2.06-2.06.94zm-11 1L8.5 8.5l.94-2.06 2.06-.94-2.06-.94L8.5 2.5l-.94 2.06-2.06.94zm10 10l.94 2.06.94-2.06 2.06-.94-2.06-.94-.94-2.06-.94 2.06-2.06.94z\"/><path d=\"M17.41 7.96l-1.37-1.37c-.4-.4-.92-.59-1.43-.59-.52 0-1.04.2-1.43.59L10.3 9.45l-7.72 7.72c-.78.78-.78 2.05 0 2.83L4 21.41c.39.39.9.59 1.41.59.51 0 1.02-.2 1.41-.59l7.78-7.78 2.81-2.81c.8-.78.8-2.07 0-2.86zM5.41 20L4 18.59l7.72-7.72 1.47 1.35L5.41 20z\"/>\n",
              "  </svg>\n",
              "      </button>\n",
              "      \n",
              "  <style>\n",
              "    .colab-df-container {\n",
              "      display:flex;\n",
              "      flex-wrap:wrap;\n",
              "      gap: 12px;\n",
              "    }\n",
              "\n",
              "    .colab-df-convert {\n",
              "      background-color: #E8F0FE;\n",
              "      border: none;\n",
              "      border-radius: 50%;\n",
              "      cursor: pointer;\n",
              "      display: none;\n",
              "      fill: #1967D2;\n",
              "      height: 32px;\n",
              "      padding: 0 0 0 0;\n",
              "      width: 32px;\n",
              "    }\n",
              "\n",
              "    .colab-df-convert:hover {\n",
              "      background-color: #E2EBFA;\n",
              "      box-shadow: 0px 1px 2px rgba(60, 64, 67, 0.3), 0px 1px 3px 1px rgba(60, 64, 67, 0.15);\n",
              "      fill: #174EA6;\n",
              "    }\n",
              "\n",
              "    [theme=dark] .colab-df-convert {\n",
              "      background-color: #3B4455;\n",
              "      fill: #D2E3FC;\n",
              "    }\n",
              "\n",
              "    [theme=dark] .colab-df-convert:hover {\n",
              "      background-color: #434B5C;\n",
              "      box-shadow: 0px 1px 3px 1px rgba(0, 0, 0, 0.15);\n",
              "      filter: drop-shadow(0px 1px 2px rgba(0, 0, 0, 0.3));\n",
              "      fill: #FFFFFF;\n",
              "    }\n",
              "  </style>\n",
              "\n",
              "      <script>\n",
              "        const buttonEl =\n",
              "          document.querySelector('#df-57aafea5-13ab-42bb-bb96-56758c3d8130 button.colab-df-convert');\n",
              "        buttonEl.style.display =\n",
              "          google.colab.kernel.accessAllowed ? 'block' : 'none';\n",
              "\n",
              "        async function convertToInteractive(key) {\n",
              "          const element = document.querySelector('#df-57aafea5-13ab-42bb-bb96-56758c3d8130');\n",
              "          const dataTable =\n",
              "            await google.colab.kernel.invokeFunction('convertToInteractive',\n",
              "                                                     [key], {});\n",
              "          if (!dataTable) return;\n",
              "\n",
              "          const docLinkHtml = 'Like what you see? Visit the ' +\n",
              "            '<a target=\"_blank\" href=https://colab.research.google.com/notebooks/data_table.ipynb>data table notebook</a>'\n",
              "            + ' to learn more about interactive tables.';\n",
              "          element.innerHTML = '';\n",
              "          dataTable['output_type'] = 'display_data';\n",
              "          await google.colab.output.renderOutput(dataTable, element);\n",
              "          const docLink = document.createElement('div');\n",
              "          docLink.innerHTML = docLinkHtml;\n",
              "          element.appendChild(docLink);\n",
              "        }\n",
              "      </script>\n",
              "    </div>\n",
              "  </div>\n",
              "  "
            ],
            "text/plain": [
              "             userid        score          age      objects        balance  \\\n",
              "count  4.590000e+03  4590.000000  4590.000000  4590.000000    1990.000000   \n",
              "mean   1.573484e+07   652.188671    37.753595     5.051852  119660.944362   \n",
              "std    7.156542e+04    96.066831    10.145663     2.867741   30647.376666   \n",
              "min    1.560845e+07   350.000000    18.000000     0.000000    3768.690000   \n",
              "25%    1.567420e+07   586.000000    31.000000     3.000000   99179.367500   \n",
              "50%    1.573578e+07   653.000000    36.000000     5.000000  119762.245000   \n",
              "75%    1.579700e+07   719.000000    42.000000     7.000000  139556.932500   \n",
              "max    1.585838e+07   850.000000    92.000000    10.000000  214346.960000   \n",
              "\n",
              "       products   creditcard      loyalty  estimated_salary        churn  \\\n",
              "count    4590.0  4590.000000  4590.000000       4590.000000  4590.000000   \n",
              "mean        2.0     0.707190     0.532898     100452.012821     0.075817   \n",
              "std         0.0     0.455102     0.498971      57790.799984     0.264734   \n",
              "min         2.0     0.000000     0.000000         90.070000     0.000000   \n",
              "25%         2.0     0.000000     0.000000      50797.287500     0.000000   \n",
              "50%         2.0     1.000000     1.000000     100738.855000     0.000000   \n",
              "75%         2.0     1.000000     1.000000     150151.460000     0.000000   \n",
              "max         2.0     1.000000     1.000000     199992.480000     1.000000   \n",
              "\n",
              "             index  Ростов Великий      Рыбинск    Ярославль            Ж  \\\n",
              "count  4590.000000     4590.000000  4590.000000  4590.000000  4590.000000   \n",
              "mean   5036.120479        0.226580     0.257734     0.515686     0.448802   \n",
              "std    2895.285983        0.418664     0.437435     0.499808     0.497426   \n",
              "min       3.000000        0.000000     0.000000     0.000000     0.000000   \n",
              "25%    2514.500000        0.000000     0.000000     0.000000     0.000000   \n",
              "50%    5067.500000        0.000000     0.000000     1.000000     0.000000   \n",
              "75%    7580.250000        0.000000     1.000000     1.000000     1.000000   \n",
              "max    9998.000000        1.000000     1.000000     1.000000     1.000000   \n",
              "\n",
              "                 М  \n",
              "count  4590.000000  \n",
              "mean      0.551198  \n",
              "std       0.497426  \n",
              "min       0.000000  \n",
              "25%       0.000000  \n",
              "50%       1.000000  \n",
              "75%       1.000000  \n",
              "max       1.000000  "
            ]
          },
          "execution_count": 171,
          "metadata": {},
          "output_type": "execute_result"
        }
      ],
      "source": [
        "bank.query('products==2').describe()"
      ]
    },
    {
      "cell_type": "code",
      "execution_count": null,
      "metadata": {
        "colab": {
          "base_uri": "https://localhost:8080/"
        },
        "id": "sIHcQ5lUWReZ",
        "outputId": "c04b8cb5-cebd-497f-b8c6-57986f9ed237"
      },
      "outputs": [
        {
          "data": {
            "text/plain": [
              "age_cat\n",
              "молодой              1025\n",
              "пожилой               310\n",
              "среднего возраста    3255\n",
              "Name: userid, dtype: int64"
            ]
          },
          "execution_count": 172,
          "metadata": {},
          "output_type": "execute_result"
        }
      ],
      "source": [
        "bank.query('products==2').groupby('age_cat')['userid'].count()"
      ]
    },
    {
      "cell_type": "markdown",
      "metadata": {
        "id": "t5b7Lg_lfCL7"
      },
      "source": [
        "Охарактеризуем людей, преобретающих 2 продукта:\n",
        "1. Средний возраст - 38 лет - что является **самым маленьким показателем**\n",
        "2. Среднее количество объектов в собственности - 5\n",
        "3. Средний баланс - 120000\n",
        "4. Приблизительно у 70% клиентов есть кредитная карта\n",
        "5. 53% пользователей активны - **самый большой показатель**\n",
        "6. Средняя заработная плата - 100000 \n",
        "7. Отток составляет **7%** - что является **самым маленьким показателем**"
      ]
    },
    {
      "cell_type": "code",
      "execution_count": null,
      "metadata": {
        "colab": {
          "base_uri": "https://localhost:8080/",
          "height": 381
        },
        "id": "7cYoDZrbck71",
        "outputId": "87c501ed-d0dc-4b35-af94-6266b94935ef"
      },
      "outputs": [
        {
          "data": {
            "text/html": [
              "\n",
              "  <div id=\"df-25487d40-7f59-4e30-bdc3-0d1d0734df52\">\n",
              "    <div class=\"colab-df-container\">\n",
              "      <div>\n",
              "<style scoped>\n",
              "    .dataframe tbody tr th:only-of-type {\n",
              "        vertical-align: middle;\n",
              "    }\n",
              "\n",
              "    .dataframe tbody tr th {\n",
              "        vertical-align: top;\n",
              "    }\n",
              "\n",
              "    .dataframe thead th {\n",
              "        text-align: right;\n",
              "    }\n",
              "</style>\n",
              "<table border=\"1\" class=\"dataframe\">\n",
              "  <thead>\n",
              "    <tr style=\"text-align: right;\">\n",
              "      <th></th>\n",
              "      <th>userid</th>\n",
              "      <th>score</th>\n",
              "      <th>age</th>\n",
              "      <th>objects</th>\n",
              "      <th>balance</th>\n",
              "      <th>products</th>\n",
              "      <th>creditcard</th>\n",
              "      <th>loyalty</th>\n",
              "      <th>estimated_salary</th>\n",
              "      <th>churn</th>\n",
              "      <th>index</th>\n",
              "      <th>Ростов Великий</th>\n",
              "      <th>Рыбинск</th>\n",
              "      <th>Ярославль</th>\n",
              "      <th>Ж</th>\n",
              "      <th>М</th>\n",
              "    </tr>\n",
              "  </thead>\n",
              "  <tbody>\n",
              "    <tr>\n",
              "      <th>count</th>\n",
              "      <td>2.660000e+02</td>\n",
              "      <td>266.000000</td>\n",
              "      <td>266.000000</td>\n",
              "      <td>266.000000</td>\n",
              "      <td>168.000000</td>\n",
              "      <td>266.0</td>\n",
              "      <td>266.000000</td>\n",
              "      <td>266.000000</td>\n",
              "      <td>266.000000</td>\n",
              "      <td>266.000000</td>\n",
              "      <td>266.000000</td>\n",
              "      <td>266.000000</td>\n",
              "      <td>266.000000</td>\n",
              "      <td>266.000000</td>\n",
              "      <td>266.000000</td>\n",
              "      <td>266.000000</td>\n",
              "    </tr>\n",
              "    <tr>\n",
              "      <th>mean</th>\n",
              "      <td>1.574182e+07</td>\n",
              "      <td>648.105263</td>\n",
              "      <td>43.195489</td>\n",
              "      <td>5.003759</td>\n",
              "      <td>119475.686310</td>\n",
              "      <td>3.0</td>\n",
              "      <td>0.714286</td>\n",
              "      <td>0.424812</td>\n",
              "      <td>104318.130564</td>\n",
              "      <td>0.827068</td>\n",
              "      <td>4853.135338</td>\n",
              "      <td>0.360902</td>\n",
              "      <td>0.248120</td>\n",
              "      <td>0.390977</td>\n",
              "      <td>0.560150</td>\n",
              "      <td>0.439850</td>\n",
              "    </tr>\n",
              "    <tr>\n",
              "      <th>std</th>\n",
              "      <td>7.395279e+04</td>\n",
              "      <td>95.190396</td>\n",
              "      <td>10.422008</td>\n",
              "      <td>2.879332</td>\n",
              "      <td>31504.871935</td>\n",
              "      <td>0.0</td>\n",
              "      <td>0.452606</td>\n",
              "      <td>0.495246</td>\n",
              "      <td>55464.281426</td>\n",
              "      <td>0.378902</td>\n",
              "      <td>2853.735510</td>\n",
              "      <td>0.481168</td>\n",
              "      <td>0.432736</td>\n",
              "      <td>0.488889</td>\n",
              "      <td>0.497304</td>\n",
              "      <td>0.497304</td>\n",
              "    </tr>\n",
              "    <tr>\n",
              "      <th>min</th>\n",
              "      <td>1.560905e+07</td>\n",
              "      <td>358.000000</td>\n",
              "      <td>21.000000</td>\n",
              "      <td>0.000000</td>\n",
              "      <td>43772.660000</td>\n",
              "      <td>3.0</td>\n",
              "      <td>0.000000</td>\n",
              "      <td>0.000000</td>\n",
              "      <td>3440.470000</td>\n",
              "      <td>0.000000</td>\n",
              "      <td>2.000000</td>\n",
              "      <td>0.000000</td>\n",
              "      <td>0.000000</td>\n",
              "      <td>0.000000</td>\n",
              "      <td>0.000000</td>\n",
              "      <td>0.000000</td>\n",
              "    </tr>\n",
              "    <tr>\n",
              "      <th>25%</th>\n",
              "      <td>1.568224e+07</td>\n",
              "      <td>586.000000</td>\n",
              "      <td>36.000000</td>\n",
              "      <td>3.000000</td>\n",
              "      <td>100741.587500</td>\n",
              "      <td>3.0</td>\n",
              "      <td>0.000000</td>\n",
              "      <td>0.000000</td>\n",
              "      <td>64344.800000</td>\n",
              "      <td>1.000000</td>\n",
              "      <td>2423.500000</td>\n",
              "      <td>0.000000</td>\n",
              "      <td>0.000000</td>\n",
              "      <td>0.000000</td>\n",
              "      <td>0.000000</td>\n",
              "      <td>0.000000</td>\n",
              "    </tr>\n",
              "    <tr>\n",
              "      <th>50%</th>\n",
              "      <td>1.574438e+07</td>\n",
              "      <td>650.000000</td>\n",
              "      <td>42.000000</td>\n",
              "      <td>5.000000</td>\n",
              "      <td>118118.190000</td>\n",
              "      <td>3.0</td>\n",
              "      <td>1.000000</td>\n",
              "      <td>0.000000</td>\n",
              "      <td>101046.885000</td>\n",
              "      <td>1.000000</td>\n",
              "      <td>5069.500000</td>\n",
              "      <td>0.000000</td>\n",
              "      <td>0.000000</td>\n",
              "      <td>0.000000</td>\n",
              "      <td>1.000000</td>\n",
              "      <td>0.000000</td>\n",
              "    </tr>\n",
              "    <tr>\n",
              "      <th>75%</th>\n",
              "      <td>1.580754e+07</td>\n",
              "      <td>711.000000</td>\n",
              "      <td>50.000000</td>\n",
              "      <td>8.000000</td>\n",
              "      <td>139714.815000</td>\n",
              "      <td>3.0</td>\n",
              "      <td>1.000000</td>\n",
              "      <td>1.000000</td>\n",
              "      <td>152230.195000</td>\n",
              "      <td>1.000000</td>\n",
              "      <td>7235.500000</td>\n",
              "      <td>1.000000</td>\n",
              "      <td>0.000000</td>\n",
              "      <td>1.000000</td>\n",
              "      <td>1.000000</td>\n",
              "      <td>1.000000</td>\n",
              "    </tr>\n",
              "    <tr>\n",
              "      <th>max</th>\n",
              "      <td>1.585823e+07</td>\n",
              "      <td>850.000000</td>\n",
              "      <td>77.000000</td>\n",
              "      <td>10.000000</td>\n",
              "      <td>250898.090000</td>\n",
              "      <td>3.0</td>\n",
              "      <td>1.000000</td>\n",
              "      <td>1.000000</td>\n",
              "      <td>199357.240000</td>\n",
              "      <td>1.000000</td>\n",
              "      <td>9895.000000</td>\n",
              "      <td>1.000000</td>\n",
              "      <td>1.000000</td>\n",
              "      <td>1.000000</td>\n",
              "      <td>1.000000</td>\n",
              "      <td>1.000000</td>\n",
              "    </tr>\n",
              "  </tbody>\n",
              "</table>\n",
              "</div>\n",
              "      <button class=\"colab-df-convert\" onclick=\"convertToInteractive('df-25487d40-7f59-4e30-bdc3-0d1d0734df52')\"\n",
              "              title=\"Convert this dataframe to an interactive table.\"\n",
              "              style=\"display:none;\">\n",
              "        \n",
              "  <svg xmlns=\"http://www.w3.org/2000/svg\" height=\"24px\"viewBox=\"0 0 24 24\"\n",
              "       width=\"24px\">\n",
              "    <path d=\"M0 0h24v24H0V0z\" fill=\"none\"/>\n",
              "    <path d=\"M18.56 5.44l.94 2.06.94-2.06 2.06-.94-2.06-.94-.94-2.06-.94 2.06-2.06.94zm-11 1L8.5 8.5l.94-2.06 2.06-.94-2.06-.94L8.5 2.5l-.94 2.06-2.06.94zm10 10l.94 2.06.94-2.06 2.06-.94-2.06-.94-.94-2.06-.94 2.06-2.06.94z\"/><path d=\"M17.41 7.96l-1.37-1.37c-.4-.4-.92-.59-1.43-.59-.52 0-1.04.2-1.43.59L10.3 9.45l-7.72 7.72c-.78.78-.78 2.05 0 2.83L4 21.41c.39.39.9.59 1.41.59.51 0 1.02-.2 1.41-.59l7.78-7.78 2.81-2.81c.8-.78.8-2.07 0-2.86zM5.41 20L4 18.59l7.72-7.72 1.47 1.35L5.41 20z\"/>\n",
              "  </svg>\n",
              "      </button>\n",
              "      \n",
              "  <style>\n",
              "    .colab-df-container {\n",
              "      display:flex;\n",
              "      flex-wrap:wrap;\n",
              "      gap: 12px;\n",
              "    }\n",
              "\n",
              "    .colab-df-convert {\n",
              "      background-color: #E8F0FE;\n",
              "      border: none;\n",
              "      border-radius: 50%;\n",
              "      cursor: pointer;\n",
              "      display: none;\n",
              "      fill: #1967D2;\n",
              "      height: 32px;\n",
              "      padding: 0 0 0 0;\n",
              "      width: 32px;\n",
              "    }\n",
              "\n",
              "    .colab-df-convert:hover {\n",
              "      background-color: #E2EBFA;\n",
              "      box-shadow: 0px 1px 2px rgba(60, 64, 67, 0.3), 0px 1px 3px 1px rgba(60, 64, 67, 0.15);\n",
              "      fill: #174EA6;\n",
              "    }\n",
              "\n",
              "    [theme=dark] .colab-df-convert {\n",
              "      background-color: #3B4455;\n",
              "      fill: #D2E3FC;\n",
              "    }\n",
              "\n",
              "    [theme=dark] .colab-df-convert:hover {\n",
              "      background-color: #434B5C;\n",
              "      box-shadow: 0px 1px 3px 1px rgba(0, 0, 0, 0.15);\n",
              "      filter: drop-shadow(0px 1px 2px rgba(0, 0, 0, 0.3));\n",
              "      fill: #FFFFFF;\n",
              "    }\n",
              "  </style>\n",
              "\n",
              "      <script>\n",
              "        const buttonEl =\n",
              "          document.querySelector('#df-25487d40-7f59-4e30-bdc3-0d1d0734df52 button.colab-df-convert');\n",
              "        buttonEl.style.display =\n",
              "          google.colab.kernel.accessAllowed ? 'block' : 'none';\n",
              "\n",
              "        async function convertToInteractive(key) {\n",
              "          const element = document.querySelector('#df-25487d40-7f59-4e30-bdc3-0d1d0734df52');\n",
              "          const dataTable =\n",
              "            await google.colab.kernel.invokeFunction('convertToInteractive',\n",
              "                                                     [key], {});\n",
              "          if (!dataTable) return;\n",
              "\n",
              "          const docLinkHtml = 'Like what you see? Visit the ' +\n",
              "            '<a target=\"_blank\" href=https://colab.research.google.com/notebooks/data_table.ipynb>data table notebook</a>'\n",
              "            + ' to learn more about interactive tables.';\n",
              "          element.innerHTML = '';\n",
              "          dataTable['output_type'] = 'display_data';\n",
              "          await google.colab.output.renderOutput(dataTable, element);\n",
              "          const docLink = document.createElement('div');\n",
              "          docLink.innerHTML = docLinkHtml;\n",
              "          element.appendChild(docLink);\n",
              "        }\n",
              "      </script>\n",
              "    </div>\n",
              "  </div>\n",
              "  "
            ],
            "text/plain": [
              "             userid       score         age     objects        balance  \\\n",
              "count  2.660000e+02  266.000000  266.000000  266.000000     168.000000   \n",
              "mean   1.574182e+07  648.105263   43.195489    5.003759  119475.686310   \n",
              "std    7.395279e+04   95.190396   10.422008    2.879332   31504.871935   \n",
              "min    1.560905e+07  358.000000   21.000000    0.000000   43772.660000   \n",
              "25%    1.568224e+07  586.000000   36.000000    3.000000  100741.587500   \n",
              "50%    1.574438e+07  650.000000   42.000000    5.000000  118118.190000   \n",
              "75%    1.580754e+07  711.000000   50.000000    8.000000  139714.815000   \n",
              "max    1.585823e+07  850.000000   77.000000   10.000000  250898.090000   \n",
              "\n",
              "       products  creditcard     loyalty  estimated_salary       churn  \\\n",
              "count     266.0  266.000000  266.000000        266.000000  266.000000   \n",
              "mean        3.0    0.714286    0.424812     104318.130564    0.827068   \n",
              "std         0.0    0.452606    0.495246      55464.281426    0.378902   \n",
              "min         3.0    0.000000    0.000000       3440.470000    0.000000   \n",
              "25%         3.0    0.000000    0.000000      64344.800000    1.000000   \n",
              "50%         3.0    1.000000    0.000000     101046.885000    1.000000   \n",
              "75%         3.0    1.000000    1.000000     152230.195000    1.000000   \n",
              "max         3.0    1.000000    1.000000     199357.240000    1.000000   \n",
              "\n",
              "             index  Ростов Великий     Рыбинск   Ярославль           Ж  \\\n",
              "count   266.000000      266.000000  266.000000  266.000000  266.000000   \n",
              "mean   4853.135338        0.360902    0.248120    0.390977    0.560150   \n",
              "std    2853.735510        0.481168    0.432736    0.488889    0.497304   \n",
              "min       2.000000        0.000000    0.000000    0.000000    0.000000   \n",
              "25%    2423.500000        0.000000    0.000000    0.000000    0.000000   \n",
              "50%    5069.500000        0.000000    0.000000    0.000000    1.000000   \n",
              "75%    7235.500000        1.000000    0.000000    1.000000    1.000000   \n",
              "max    9895.000000        1.000000    1.000000    1.000000    1.000000   \n",
              "\n",
              "                М  \n",
              "count  266.000000  \n",
              "mean     0.439850  \n",
              "std      0.497304  \n",
              "min      0.000000  \n",
              "25%      0.000000  \n",
              "50%      0.000000  \n",
              "75%      1.000000  \n",
              "max      1.000000  "
            ]
          },
          "execution_count": 173,
          "metadata": {},
          "output_type": "execute_result"
        }
      ],
      "source": [
        "bank.query('products==3').describe()"
      ]
    },
    {
      "cell_type": "code",
      "execution_count": null,
      "metadata": {
        "colab": {
          "base_uri": "https://localhost:8080/"
        },
        "id": "qDr9FkdbWZWN",
        "outputId": "9b676ce5-9526-45fb-b324-e0498c625d0f"
      },
      "outputs": [
        {
          "data": {
            "text/plain": [
              "age_cat\n",
              "молодой               31\n",
              "пожилой               35\n",
              "среднего возраста    200\n",
              "Name: userid, dtype: int64"
            ]
          },
          "execution_count": 174,
          "metadata": {},
          "output_type": "execute_result"
        }
      ],
      "source": [
        "bank.query('products==3').groupby('age_cat')['userid'].count()"
      ]
    },
    {
      "cell_type": "markdown",
      "metadata": {
        "id": "V0IECpCpfgQm"
      },
      "source": [
        "Охарактеризуем людей, преобретающих 3 продукта:\n",
        "1. Средний возраст - 43 года\n",
        "2. Среднее количество объектов в собственности - 5\n",
        "3. Средний баланс - 119000\n",
        "4. Приблизительно у 71% клиентов есть кредитная карта\n",
        "5. 42% пользователей активны\n",
        "6. Средняя заработная плата - 104000 \n",
        "7. Отток составляет **82%**"
      ]
    },
    {
      "cell_type": "code",
      "execution_count": null,
      "metadata": {
        "colab": {
          "base_uri": "https://localhost:8080/",
          "height": 381
        },
        "id": "9SMNU2DLcnAP",
        "outputId": "2f276fbd-9748-43d0-91a5-46779d13864c"
      },
      "outputs": [
        {
          "data": {
            "text/html": [
              "\n",
              "  <div id=\"df-506bf4d5-f640-4c9b-a677-35c983dfd043\">\n",
              "    <div class=\"colab-df-container\">\n",
              "      <div>\n",
              "<style scoped>\n",
              "    .dataframe tbody tr th:only-of-type {\n",
              "        vertical-align: middle;\n",
              "    }\n",
              "\n",
              "    .dataframe tbody tr th {\n",
              "        vertical-align: top;\n",
              "    }\n",
              "\n",
              "    .dataframe thead th {\n",
              "        text-align: right;\n",
              "    }\n",
              "</style>\n",
              "<table border=\"1\" class=\"dataframe\">\n",
              "  <thead>\n",
              "    <tr style=\"text-align: right;\">\n",
              "      <th></th>\n",
              "      <th>userid</th>\n",
              "      <th>score</th>\n",
              "      <th>age</th>\n",
              "      <th>objects</th>\n",
              "      <th>balance</th>\n",
              "      <th>products</th>\n",
              "      <th>creditcard</th>\n",
              "      <th>loyalty</th>\n",
              "      <th>estimated_salary</th>\n",
              "      <th>churn</th>\n",
              "      <th>index</th>\n",
              "      <th>Ростов Великий</th>\n",
              "      <th>Рыбинск</th>\n",
              "      <th>Ярославль</th>\n",
              "      <th>Ж</th>\n",
              "      <th>М</th>\n",
              "    </tr>\n",
              "  </thead>\n",
              "  <tbody>\n",
              "    <tr>\n",
              "      <th>count</th>\n",
              "      <td>6.000000e+01</td>\n",
              "      <td>60.000000</td>\n",
              "      <td>60.000000</td>\n",
              "      <td>60.000000</td>\n",
              "      <td>46.000000</td>\n",
              "      <td>60.0</td>\n",
              "      <td>60.000000</td>\n",
              "      <td>60.000000</td>\n",
              "      <td>60.000000</td>\n",
              "      <td>60.0</td>\n",
              "      <td>60.000000</td>\n",
              "      <td>60.000000</td>\n",
              "      <td>60.000000</td>\n",
              "      <td>60.000000</td>\n",
              "      <td>60.000000</td>\n",
              "      <td>60.000000</td>\n",
              "    </tr>\n",
              "    <tr>\n",
              "      <th>mean</th>\n",
              "      <td>1.571936e+07</td>\n",
              "      <td>653.583333</td>\n",
              "      <td>45.683333</td>\n",
              "      <td>5.300000</td>\n",
              "      <td>122260.610870</td>\n",
              "      <td>4.0</td>\n",
              "      <td>0.683333</td>\n",
              "      <td>0.483333</td>\n",
              "      <td>104763.723333</td>\n",
              "      <td>1.0</td>\n",
              "      <td>5174.183333</td>\n",
              "      <td>0.400000</td>\n",
              "      <td>0.116667</td>\n",
              "      <td>0.483333</td>\n",
              "      <td>0.633333</td>\n",
              "      <td>0.366667</td>\n",
              "    </tr>\n",
              "    <tr>\n",
              "      <th>std</th>\n",
              "      <td>6.814840e+04</td>\n",
              "      <td>101.265600</td>\n",
              "      <td>8.619040</td>\n",
              "      <td>2.947564</td>\n",
              "      <td>27761.150772</td>\n",
              "      <td>0.0</td>\n",
              "      <td>0.469102</td>\n",
              "      <td>0.503939</td>\n",
              "      <td>57526.494114</td>\n",
              "      <td>0.0</td>\n",
              "      <td>2717.959089</td>\n",
              "      <td>0.494032</td>\n",
              "      <td>0.323732</td>\n",
              "      <td>0.503939</td>\n",
              "      <td>0.485961</td>\n",
              "      <td>0.485961</td>\n",
              "    </tr>\n",
              "    <tr>\n",
              "      <th>min</th>\n",
              "      <td>1.561074e+07</td>\n",
              "      <td>376.000000</td>\n",
              "      <td>29.000000</td>\n",
              "      <td>1.000000</td>\n",
              "      <td>46870.430000</td>\n",
              "      <td>4.0</td>\n",
              "      <td>0.000000</td>\n",
              "      <td>0.000000</td>\n",
              "      <td>5669.310000</td>\n",
              "      <td>1.0</td>\n",
              "      <td>7.000000</td>\n",
              "      <td>0.000000</td>\n",
              "      <td>0.000000</td>\n",
              "      <td>0.000000</td>\n",
              "      <td>0.000000</td>\n",
              "      <td>0.000000</td>\n",
              "    </tr>\n",
              "    <tr>\n",
              "      <th>25%</th>\n",
              "      <td>1.566638e+07</td>\n",
              "      <td>595.000000</td>\n",
              "      <td>40.000000</td>\n",
              "      <td>2.750000</td>\n",
              "      <td>112063.295000</td>\n",
              "      <td>4.0</td>\n",
              "      <td>0.000000</td>\n",
              "      <td>0.000000</td>\n",
              "      <td>62033.390000</td>\n",
              "      <td>1.0</td>\n",
              "      <td>2616.250000</td>\n",
              "      <td>0.000000</td>\n",
              "      <td>0.000000</td>\n",
              "      <td>0.000000</td>\n",
              "      <td>0.000000</td>\n",
              "      <td>0.000000</td>\n",
              "    </tr>\n",
              "    <tr>\n",
              "      <th>50%</th>\n",
              "      <td>1.570775e+07</td>\n",
              "      <td>643.000000</td>\n",
              "      <td>45.000000</td>\n",
              "      <td>5.000000</td>\n",
              "      <td>120968.270000</td>\n",
              "      <td>4.0</td>\n",
              "      <td>1.000000</td>\n",
              "      <td>0.000000</td>\n",
              "      <td>112163.105000</td>\n",
              "      <td>1.0</td>\n",
              "      <td>4785.000000</td>\n",
              "      <td>0.000000</td>\n",
              "      <td>0.000000</td>\n",
              "      <td>0.000000</td>\n",
              "      <td>1.000000</td>\n",
              "      <td>0.000000</td>\n",
              "    </tr>\n",
              "    <tr>\n",
              "      <th>75%</th>\n",
              "      <td>1.576341e+07</td>\n",
              "      <td>708.000000</td>\n",
              "      <td>50.250000</td>\n",
              "      <td>8.000000</td>\n",
              "      <td>135527.207500</td>\n",
              "      <td>4.0</td>\n",
              "      <td>1.000000</td>\n",
              "      <td>1.000000</td>\n",
              "      <td>139371.955000</td>\n",
              "      <td>1.0</td>\n",
              "      <td>7599.750000</td>\n",
              "      <td>1.000000</td>\n",
              "      <td>0.000000</td>\n",
              "      <td>1.000000</td>\n",
              "      <td>1.000000</td>\n",
              "      <td>1.000000</td>\n",
              "    </tr>\n",
              "    <tr>\n",
              "      <th>max</th>\n",
              "      <td>1.585805e+07</td>\n",
              "      <td>850.000000</td>\n",
              "      <td>68.000000</td>\n",
              "      <td>10.000000</td>\n",
              "      <td>195238.290000</td>\n",
              "      <td>4.0</td>\n",
              "      <td>1.000000</td>\n",
              "      <td>1.000000</td>\n",
              "      <td>198874.520000</td>\n",
              "      <td>1.0</td>\n",
              "      <td>9565.000000</td>\n",
              "      <td>1.000000</td>\n",
              "      <td>1.000000</td>\n",
              "      <td>1.000000</td>\n",
              "      <td>1.000000</td>\n",
              "      <td>1.000000</td>\n",
              "    </tr>\n",
              "  </tbody>\n",
              "</table>\n",
              "</div>\n",
              "      <button class=\"colab-df-convert\" onclick=\"convertToInteractive('df-506bf4d5-f640-4c9b-a677-35c983dfd043')\"\n",
              "              title=\"Convert this dataframe to an interactive table.\"\n",
              "              style=\"display:none;\">\n",
              "        \n",
              "  <svg xmlns=\"http://www.w3.org/2000/svg\" height=\"24px\"viewBox=\"0 0 24 24\"\n",
              "       width=\"24px\">\n",
              "    <path d=\"M0 0h24v24H0V0z\" fill=\"none\"/>\n",
              "    <path d=\"M18.56 5.44l.94 2.06.94-2.06 2.06-.94-2.06-.94-.94-2.06-.94 2.06-2.06.94zm-11 1L8.5 8.5l.94-2.06 2.06-.94-2.06-.94L8.5 2.5l-.94 2.06-2.06.94zm10 10l.94 2.06.94-2.06 2.06-.94-2.06-.94-.94-2.06-.94 2.06-2.06.94z\"/><path d=\"M17.41 7.96l-1.37-1.37c-.4-.4-.92-.59-1.43-.59-.52 0-1.04.2-1.43.59L10.3 9.45l-7.72 7.72c-.78.78-.78 2.05 0 2.83L4 21.41c.39.39.9.59 1.41.59.51 0 1.02-.2 1.41-.59l7.78-7.78 2.81-2.81c.8-.78.8-2.07 0-2.86zM5.41 20L4 18.59l7.72-7.72 1.47 1.35L5.41 20z\"/>\n",
              "  </svg>\n",
              "      </button>\n",
              "      \n",
              "  <style>\n",
              "    .colab-df-container {\n",
              "      display:flex;\n",
              "      flex-wrap:wrap;\n",
              "      gap: 12px;\n",
              "    }\n",
              "\n",
              "    .colab-df-convert {\n",
              "      background-color: #E8F0FE;\n",
              "      border: none;\n",
              "      border-radius: 50%;\n",
              "      cursor: pointer;\n",
              "      display: none;\n",
              "      fill: #1967D2;\n",
              "      height: 32px;\n",
              "      padding: 0 0 0 0;\n",
              "      width: 32px;\n",
              "    }\n",
              "\n",
              "    .colab-df-convert:hover {\n",
              "      background-color: #E2EBFA;\n",
              "      box-shadow: 0px 1px 2px rgba(60, 64, 67, 0.3), 0px 1px 3px 1px rgba(60, 64, 67, 0.15);\n",
              "      fill: #174EA6;\n",
              "    }\n",
              "\n",
              "    [theme=dark] .colab-df-convert {\n",
              "      background-color: #3B4455;\n",
              "      fill: #D2E3FC;\n",
              "    }\n",
              "\n",
              "    [theme=dark] .colab-df-convert:hover {\n",
              "      background-color: #434B5C;\n",
              "      box-shadow: 0px 1px 3px 1px rgba(0, 0, 0, 0.15);\n",
              "      filter: drop-shadow(0px 1px 2px rgba(0, 0, 0, 0.3));\n",
              "      fill: #FFFFFF;\n",
              "    }\n",
              "  </style>\n",
              "\n",
              "      <script>\n",
              "        const buttonEl =\n",
              "          document.querySelector('#df-506bf4d5-f640-4c9b-a677-35c983dfd043 button.colab-df-convert');\n",
              "        buttonEl.style.display =\n",
              "          google.colab.kernel.accessAllowed ? 'block' : 'none';\n",
              "\n",
              "        async function convertToInteractive(key) {\n",
              "          const element = document.querySelector('#df-506bf4d5-f640-4c9b-a677-35c983dfd043');\n",
              "          const dataTable =\n",
              "            await google.colab.kernel.invokeFunction('convertToInteractive',\n",
              "                                                     [key], {});\n",
              "          if (!dataTable) return;\n",
              "\n",
              "          const docLinkHtml = 'Like what you see? Visit the ' +\n",
              "            '<a target=\"_blank\" href=https://colab.research.google.com/notebooks/data_table.ipynb>data table notebook</a>'\n",
              "            + ' to learn more about interactive tables.';\n",
              "          element.innerHTML = '';\n",
              "          dataTable['output_type'] = 'display_data';\n",
              "          await google.colab.output.renderOutput(dataTable, element);\n",
              "          const docLink = document.createElement('div');\n",
              "          docLink.innerHTML = docLinkHtml;\n",
              "          element.appendChild(docLink);\n",
              "        }\n",
              "      </script>\n",
              "    </div>\n",
              "  </div>\n",
              "  "
            ],
            "text/plain": [
              "             userid       score        age    objects        balance  \\\n",
              "count  6.000000e+01   60.000000  60.000000  60.000000      46.000000   \n",
              "mean   1.571936e+07  653.583333  45.683333   5.300000  122260.610870   \n",
              "std    6.814840e+04  101.265600   8.619040   2.947564   27761.150772   \n",
              "min    1.561074e+07  376.000000  29.000000   1.000000   46870.430000   \n",
              "25%    1.566638e+07  595.000000  40.000000   2.750000  112063.295000   \n",
              "50%    1.570775e+07  643.000000  45.000000   5.000000  120968.270000   \n",
              "75%    1.576341e+07  708.000000  50.250000   8.000000  135527.207500   \n",
              "max    1.585805e+07  850.000000  68.000000  10.000000  195238.290000   \n",
              "\n",
              "       products  creditcard    loyalty  estimated_salary  churn        index  \\\n",
              "count      60.0   60.000000  60.000000         60.000000   60.0    60.000000   \n",
              "mean        4.0    0.683333   0.483333     104763.723333    1.0  5174.183333   \n",
              "std         0.0    0.469102   0.503939      57526.494114    0.0  2717.959089   \n",
              "min         4.0    0.000000   0.000000       5669.310000    1.0     7.000000   \n",
              "25%         4.0    0.000000   0.000000      62033.390000    1.0  2616.250000   \n",
              "50%         4.0    1.000000   0.000000     112163.105000    1.0  4785.000000   \n",
              "75%         4.0    1.000000   1.000000     139371.955000    1.0  7599.750000   \n",
              "max         4.0    1.000000   1.000000     198874.520000    1.0  9565.000000   \n",
              "\n",
              "       Ростов Великий    Рыбинск  Ярославль          Ж          М  \n",
              "count       60.000000  60.000000  60.000000  60.000000  60.000000  \n",
              "mean         0.400000   0.116667   0.483333   0.633333   0.366667  \n",
              "std          0.494032   0.323732   0.503939   0.485961   0.485961  \n",
              "min          0.000000   0.000000   0.000000   0.000000   0.000000  \n",
              "25%          0.000000   0.000000   0.000000   0.000000   0.000000  \n",
              "50%          0.000000   0.000000   0.000000   1.000000   0.000000  \n",
              "75%          1.000000   0.000000   1.000000   1.000000   1.000000  \n",
              "max          1.000000   1.000000   1.000000   1.000000   1.000000  "
            ]
          },
          "execution_count": 175,
          "metadata": {},
          "output_type": "execute_result"
        }
      ],
      "source": [
        "bank.query('products==4').describe()"
      ]
    },
    {
      "cell_type": "code",
      "execution_count": null,
      "metadata": {
        "colab": {
          "base_uri": "https://localhost:8080/"
        },
        "id": "doKJOtfzWkqy",
        "outputId": "bb875b6b-3ce2-494e-8a46-1d0ac97980db"
      },
      "outputs": [
        {
          "data": {
            "text/plain": [
              "age_cat\n",
              "молодой               2\n",
              "пожилой               8\n",
              "среднего возраста    50\n",
              "Name: userid, dtype: int64"
            ]
          },
          "execution_count": 176,
          "metadata": {},
          "output_type": "execute_result"
        }
      ],
      "source": [
        "bank.query('products==4').groupby('age_cat')['userid'].count()"
      ]
    },
    {
      "cell_type": "markdown",
      "metadata": {
        "id": "PPRZRoPIf85K"
      },
      "source": [
        "Охарактеризуем людей, преобретающих 4 продукта:\n",
        "1. Средний возраст - 45 лет - **самый большой показатель**\n",
        "2. Среднее количество объектов в собственности - 5\n",
        "3. Средний баланс - 122000 - **самый большой показатель**\n",
        "4. Приблизительно у 68% клиентов есть кредитная карта\n",
        "5. 48% пользователей активны\n",
        "6. Средняя заработная плата - 105000 \n",
        "7. Отток составляет **100%** - **самый большой показатель**"
      ]
    },
    {
      "cell_type": "markdown",
      "metadata": {
        "id": "76fFZh3SU-7a"
      },
      "source": [
        "### 3.2 Охарактеризуем каждую группу и сделаем выводы"
      ]
    },
    {
      "cell_type": "markdown",
      "metadata": {
        "id": "6-hRZ4yhgiFg"
      },
      "source": [
        "Охарактеризуем каждую группу:\n",
        "Так как молодые в основном покупают 2 продукта, пожилые - 1, а люди среднего возраста - 2 (при этом доля людей среднего возраста во всех группах большая), думаю, что банк выпускает банковские карты, выдаёт кредиты и ипотеку. Всем 4 продуктами в подавляющем большинстве пользуются люди среднего возраста, так что предположу, что 4 продукт - открытие своего вклада.\n",
        "\n",
        "Не могу сказать, что тут есть явное деление на группы, так как показатели в основном +- одинаковые, но предположу, что наши группы можно охарактеризовать так:\n",
        "1. 1 группа - в основном это те, кто просто завел банковскую карточку. Здесь есть как молодёжь, так и люди среднего возраста, пенсионеры. Средний доход достаточно большой, так что думаю, что даже если и есть среди клиентов студенты, они в основном работают.\n",
        "2. 2 группа - думаю, в основном, это те, кто берут кредит и банковскую карту. У этих людей зарплата чуть побольше, но в целом, ключевой факт - наличие кредита\n",
        "3. 3 группа - в основном это те, кто взял ипотеку, кредит и банковскую карту. Ключевое здесь - ипотека. У них больше зарплата, остальные критерие приблизительно такие же\n",
        "4. 4 группа - это те, кто купил все 4 продукта. Думаю, тогда явно проблемы с вкладами\n",
        "\n",
        "\n",
        "\n",
        "\n",
        "\n",
        "Сделаем некоторые выводы:\n",
        "1. Люди, которые покупают 2 продукта, самые активные и с меньшей вероятностью попадают в отток\n",
        "2. Люди, которые покупают 4 продукта со 100% вероятностью попадают в отток. В этом явно кроется проблема. Возможно какие-то продукты некачественны.\n",
        "3. Есть взаимосвязь между зарплатой и количеством купленных продуктов: чем больше зарплата, тем больше покупок сделано"
      ]
    },
    {
      "cell_type": "markdown",
      "metadata": {
        "id": "c3NcTOdhw8Ms"
      },
      "source": [
        "## 4. Проверка гипотез"
      ]
    },
    {
      "cell_type": "markdown",
      "metadata": {
        "id": "hQUpwLgQw8-4"
      },
      "source": [
        "### 4.1 Проверить гипотезу различия дохода между теми клиентами, которые пользуются двумя продуктами банка, и теми, которые пользуются одним."
      ]
    },
    {
      "cell_type": "markdown",
      "metadata": {
        "id": "_1z513u15nyg"
      },
      "source": [
        "H0: Нет статистически значимой разницы в зарплате среди тех, кто купил 1 продукт и кто купил 2 продукта\n",
        "\n",
        "H1: Есть статистически значимая разница в зарплате среди тех, кто купил 1 продукт и кто купил 2 продукта"
      ]
    },
    {
      "cell_type": "code",
      "execution_count": null,
      "metadata": {
        "colab": {
          "base_uri": "https://localhost:8080/"
        },
        "id": "pGGesx5pWBAK",
        "outputId": "01137062-127a-4742-ef48-24ff00a3c4ef"
      },
      "outputs": [
        {
          "name": "stdout",
          "output_type": "stream",
          "text": [
            "p-значение: 0.41047183624949335\n",
            "Не получилось отвергнуть нулевую гипотезу\n"
          ]
        }
      ],
      "source": [
        "gr_1=bank.query('products==1')\n",
        "gr_2=bank.query('products==2')\n",
        "\n",
        "alpha = .05\n",
        "results = st.ttest_ind(\n",
        "    gr_1['estimated_salary'], \n",
        "    gr_2['estimated_salary'])# ваш код: проверьте гипотезу о равенстве средних двух независимых совокупностей\n",
        "\n",
        "print('p-значение:', results.pvalue)\n",
        "\n",
        "if results.pvalue < alpha:\n",
        "    print(\"Отвергаем нулевую гипотезу\")\n",
        "else:\n",
        "    print(\"Не получилось отвергнуть нулевую гипотезу\")"
      ]
    },
    {
      "cell_type": "markdown",
      "metadata": {
        "id": "G8JEIlKOw_0_"
      },
      "source": [
        "### 4.2 Сформулировать и проверить статистическую гипотезу относительно представленных данных."
      ]
    },
    {
      "cell_type": "markdown",
      "metadata": {
        "id": "utcr3lqw2n53"
      },
      "source": [
        "H0: Среди тех, кто приобретает менее 3 товаров, и тех, кто приобретает более 2 товаров, нет статистической разницы в количестве людей, ушедших в отток\n",
        "\n",
        "H1: Среди тех, кто приобретает менее 3 товаров, и тех, кто приобретает более 2 товаров, есть статистическая разница в количестве людей, ушедших в отток"
      ]
    },
    {
      "cell_type": "code",
      "execution_count": null,
      "metadata": {
        "colab": {
          "base_uri": "https://localhost:8080/"
        },
        "id": "bk44YygtxHqf",
        "outputId": "34f525f6-9875-43c0-eae0-4bf90312d05e"
      },
      "outputs": [
        {
          "name": "stdout",
          "output_type": "stream",
          "text": [
            "p-value: 5.837170492919339e-196\n",
            "Отвергаем нулевую гипотезу\n"
          ]
        }
      ],
      "source": [
        "\n",
        "alpha = 0.05\n",
        "count_3= bank.query('products<=2')['churn'].sum()\n",
        "count_4= bank.query('products>2')['churn'].sum()\n",
        "nobs_3 = bank.query('products<=2')['userid'].count()\n",
        "nobs_4 = bank.query('products>2')['userid'].count()\n",
        "count = np.array([count_3, count_4])\n",
        "nobs = np.array([nobs_3, nobs_4])\n",
        "stat, pval = proportions_ztest(count, nobs)\n",
        "print('p-value:', pval)\n",
        "if pval < alpha:\n",
        "    print(\"Отвергаем нулевую гипотезу\")\n",
        "else:\n",
        "    print(\"Не получилось отвергнуть нулевую гипотезу\")"
      ]
    },
    {
      "cell_type": "markdown",
      "metadata": {
        "id": "TalVwh6V5-1P"
      },
      "source": [
        "Вывод:\n",
        "1. Количество людей, ушедших в отток, зависит от того, сколько продуктов у банка они купили\n",
        "2. Люди, покупающие 1 и 2 продукта, имеет приблизительно одинаковое распределение в зарплате"
      ]
    },
    {
      "cell_type": "markdown",
      "metadata": {
        "id": "5vq190YPxDlG"
      },
      "source": [
        "## 5. Выводы"
      ]
    },
    {
      "cell_type": "markdown",
      "metadata": {
        "id": "suxNjQxoWOQN"
      },
      "source": [
        "Выводы: \n",
        "1. У людей, которые покупали 1 и 2 продукта, приблизительно одинаковое распределение заработных плат.\n",
        "2. У тех, кто купил 2 продукта, процент оттока намного меньше\n",
        "3. Особой взаимосвязи между количеством купленных продуктов и разными признаками не наблюдается\n",
        "\n",
        "Рекомендации:\n",
        "1. Можем заметить, что у тех, кто покупал все 4 продукта, процент оттока - 100%. Скорее всего проблема в одном из продуктов: возможно, там слишком дорогое обслуживание или много недоработок\n",
        "2. Наибольший процент оттока можно наблюдать у людей среднего возраста. Нужно обратить внимание на этот пласт клиентов. Такие люди обычно часто берут кредиты. Возможно, дело именно в кредитовании. Думаю, стоит устроить соц. опрос с обратной связью.\n",
        "\n",
        "По группам:\n",
        "1. Первой группе могу предложить создание мобильного приложения, куда можно было бы добавить какие-нибудь новые функции \n",
        "2. Второй группе рекомендую добавить более комфортную условия по закрытию кредита (к примеру, уменьшить процент кредитования)\n",
        "3. Третьей группе советую добавить более выгодные условия по ипотеке \n",
        "4. Для четвертой группы следует сделать соц. опрос с обратной связью, чтобы понять, где какие проблемы кроются, и в особенности надо обратить внимание на вклады\n",
        "\n",
        "Конкретнее описание групп можно посмотреть в пункте 3.1"
      ]
    }
  ],
  "metadata": {
    "ExecuteTimeLog": [
      {
        "duration": 75,
        "start_time": "2022-10-25T10:15:47.766Z"
      },
      {
        "duration": 56,
        "start_time": "2022-10-25T10:16:19.203Z"
      },
      {
        "duration": 65,
        "start_time": "2022-10-25T10:31:13.110Z"
      },
      {
        "duration": 56,
        "start_time": "2022-10-25T10:35:28.302Z"
      },
      {
        "duration": 49,
        "start_time": "2022-10-25T10:36:58.317Z"
      },
      {
        "duration": 45,
        "start_time": "2022-10-25T10:39:48.462Z"
      },
      {
        "duration": 55,
        "start_time": "2022-10-27T20:59:30.527Z"
      }
    ],
    "colab": {
      "provenance": []
    },
    "kernelspec": {
      "display_name": "Python 3 (ipykernel)",
      "language": "python",
      "name": "python3"
    },
    "language_info": {
      "codemirror_mode": {
        "name": "ipython",
        "version": 3
      },
      "file_extension": ".py",
      "mimetype": "text/x-python",
      "name": "python",
      "nbconvert_exporter": "python",
      "pygments_lexer": "ipython3",
      "version": "3.9.5"
    },
    "toc": {
      "base_numbering": 1,
      "nav_menu": {},
      "number_sections": true,
      "sideBar": true,
      "skip_h1_title": true,
      "title_cell": "Table of Contents",
      "title_sidebar": "Contents",
      "toc_cell": false,
      "toc_position": {},
      "toc_section_display": true,
      "toc_window_display": true
    }
  },
  "nbformat": 4,
  "nbformat_minor": 0
}