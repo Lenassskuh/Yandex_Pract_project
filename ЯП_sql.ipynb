{
  "cells": [
    {
      "cell_type": "markdown",
      "metadata": {
        "id": "qbduTPJvlLLe"
      },
      "source": [
        "#Проект по SQL"
      ]
    },
    {
      "cell_type": "markdown",
      "metadata": {
        "id": "Z-_8gE9slujn"
      },
      "source": [
        "**Описание проекта:**\n",
        "Компания купила крупный сервис для чтения книг по подписке во время короновируса. Надо проанализировать данные о книгах, издательствах и авторах.\n"
      ]
    },
    {
      "cell_type": "markdown",
      "metadata": {
        "id": "HoW9j1Cdnmyi"
      },
      "source": [
        "**Цель проекта:**\n",
        "Сформулировать ценностное предложение для нового продукта."
      ]
    },
    {
      "cell_type": "markdown",
      "metadata": {
        "id": "N4MYvSo9n0Us"
      },
      "source": [
        "**Описание данных:**\n",
        "\n",
        "**Таблица `books`**\n",
        "\n",
        "Содержит данные о книгах:\n",
        "\n",
        "- `book_id` — идентификатор книги;\n",
        "- `author_id` — идентификатор автора;\n",
        "- `title` — название книги;\n",
        "- `num_pages` — количество страниц;\n",
        "- `publication_date` — дата публикации книги;\n",
        "- `publisher_id` — идентификатор издателя.\n",
        "\n",
        "**Таблица `authors`**\n",
        "\n",
        "Содержит данные об авторах:\n",
        "\n",
        "- `author_id` — идентификатор автора;\n",
        "- `author` — имя автора.\n",
        "\n",
        "**Таблица `publishers`**\n",
        "\n",
        "Содержит данные об издательствах:\n",
        "\n",
        "- `publisher_id` — идентификатор издательства;\n",
        "- `publisher` — название издательства;\n",
        "\n",
        "**Таблица `ratings`**\n",
        "\n",
        "Содержит данные о пользовательских оценках книг:\n",
        "\n",
        "- `rating_id` — идентификатор оценки;\n",
        "- `book_id` — идентификатор книги;\n",
        "- `username` — имя пользователя, оставившего оценку;\n",
        "- `rating` — оценка книги.\n",
        "\n",
        "**Таблица `reviews`**\n",
        "\n",
        "Содержит данные о пользовательских обзорах на книги:\n",
        "\n",
        "- `review_id` — идентификатор обзора;\n",
        "- `book_id` — идентификатор книги;\n",
        "- `username` — имя пользователя, написавшего обзор;\n",
        "- `text` — текст обзора."
      ]
    },
    {
      "cell_type": "markdown",
      "metadata": {
        "id": "Kb67_qwAoGt0"
      },
      "source": [
        "## Знакомство с таблицами"
      ]
    },
    {
      "cell_type": "code",
      "execution_count": null,
      "metadata": {
        "id": "qvKT40Pfkwv0"
      },
      "outputs": [],
      "source": [
        "# импортируем библиотеки\n",
        "import pandas as pd\n",
        "from sqlalchemy import create_engine\n",
        "\n",
        "# устанавливаем параметры\n",
        "db_config = {'user': 'praktikum_student', # имя пользователя\n",
        "'pwd': 'Sdf4$2;d-d30pp',  # пароль\n",
        "'host': 'rc1b-wcoijxj3yxfsf3fs.mdb.yandexcloud.net',\n",
        "'port': 6432, # порт подключения\n",
        "'db': 'data-analyst-final-project-db'} # название базы данных\n",
        "connection_string = 'postgresql://{}:{}@{}:{}/{}'.format(db_config['user'],\n",
        "db_config['pwd'],\n",
        "db_config['host'],\n",
        "db_config['port'],\n",
        "db_config['db'])\n",
        "\n",
        "# сохраняем коннектор\n",
        "engine = create_engine(connection_string, connect_args={'sslmode':'require'})"
      ]
    },
    {
      "cell_type": "markdown",
      "metadata": {
        "id": "8WcGukZYqyWn"
      },
      "source": [
        "##Прочитаем таблицы"
      ]
    },
    {
      "cell_type": "code",
      "execution_count": null,
      "metadata": {
        "colab": {
          "base_uri": "https://localhost:8080/",
          "height": 206
        },
        "id": "nEeMmD3MlCnJ",
        "outputId": "f26efe7d-f063-420b-e68d-c8af8edf8ca3"
      },
      "outputs": [
        {
          "data": {
            "text/html": [
              "<div>\n",
              "<style scoped>\n",
              "    .dataframe tbody tr th:only-of-type {\n",
              "        vertical-align: middle;\n",
              "    }\n",
              "\n",
              "    .dataframe tbody tr th {\n",
              "        vertical-align: top;\n",
              "    }\n",
              "\n",
              "    .dataframe thead th {\n",
              "        text-align: right;\n",
              "    }\n",
              "</style>\n",
              "<table border=\"1\" class=\"dataframe\">\n",
              "  <thead>\n",
              "    <tr style=\"text-align: right;\">\n",
              "      <th></th>\n",
              "      <th>book_id</th>\n",
              "      <th>author_id</th>\n",
              "      <th>title</th>\n",
              "      <th>num_pages</th>\n",
              "      <th>publication_date</th>\n",
              "      <th>publisher_id</th>\n",
              "    </tr>\n",
              "  </thead>\n",
              "  <tbody>\n",
              "    <tr>\n",
              "      <th>0</th>\n",
              "      <td>1</td>\n",
              "      <td>546</td>\n",
              "      <td>'Salem's Lot</td>\n",
              "      <td>594</td>\n",
              "      <td>2005-11-01</td>\n",
              "      <td>93</td>\n",
              "    </tr>\n",
              "    <tr>\n",
              "      <th>1</th>\n",
              "      <td>2</td>\n",
              "      <td>465</td>\n",
              "      <td>1 000 Places to See Before You Die</td>\n",
              "      <td>992</td>\n",
              "      <td>2003-05-22</td>\n",
              "      <td>336</td>\n",
              "    </tr>\n",
              "    <tr>\n",
              "      <th>2</th>\n",
              "      <td>3</td>\n",
              "      <td>407</td>\n",
              "      <td>13 Little Blue Envelopes (Little Blue Envelope...</td>\n",
              "      <td>322</td>\n",
              "      <td>2010-12-21</td>\n",
              "      <td>135</td>\n",
              "    </tr>\n",
              "    <tr>\n",
              "      <th>3</th>\n",
              "      <td>4</td>\n",
              "      <td>82</td>\n",
              "      <td>1491: New Revelations of the Americas Before C...</td>\n",
              "      <td>541</td>\n",
              "      <td>2006-10-10</td>\n",
              "      <td>309</td>\n",
              "    </tr>\n",
              "    <tr>\n",
              "      <th>4</th>\n",
              "      <td>5</td>\n",
              "      <td>125</td>\n",
              "      <td>1776</td>\n",
              "      <td>386</td>\n",
              "      <td>2006-07-04</td>\n",
              "      <td>268</td>\n",
              "    </tr>\n",
              "  </tbody>\n",
              "</table>\n",
              "</div>"
            ],
            "text/plain": [
              "   book_id  author_id                                              title  \\\n",
              "0        1        546                                       'Salem's Lot   \n",
              "1        2        465                 1 000 Places to See Before You Die   \n",
              "2        3        407  13 Little Blue Envelopes (Little Blue Envelope...   \n",
              "3        4         82  1491: New Revelations of the Americas Before C...   \n",
              "4        5        125                                               1776   \n",
              "\n",
              "   num_pages publication_date  publisher_id  \n",
              "0        594       2005-11-01            93  \n",
              "1        992       2003-05-22           336  \n",
              "2        322       2010-12-21           135  \n",
              "3        541       2006-10-10           309  \n",
              "4        386       2006-07-04           268  "
            ]
          },
          "execution_count": 2,
          "metadata": {},
          "output_type": "execute_result"
        }
      ],
      "source": [
        "query = \"\"\"\n",
        "SELECT *\n",
        "FROM books\n",
        "LIMIT 5;\n",
        "\"\"\"\n",
        "pd.io.sql.read_sql(query, con = engine)"
      ]
    },
    {
      "cell_type": "code",
      "execution_count": null,
      "metadata": {
        "colab": {
          "base_uri": "https://localhost:8080/",
          "height": 206
        },
        "id": "YcmBYCYVsVYJ",
        "outputId": "7e770e25-e9fa-49a0-c79f-ce1c6c8f34d4"
      },
      "outputs": [
        {
          "data": {
            "text/html": [
              "<div>\n",
              "<style scoped>\n",
              "    .dataframe tbody tr th:only-of-type {\n",
              "        vertical-align: middle;\n",
              "    }\n",
              "\n",
              "    .dataframe tbody tr th {\n",
              "        vertical-align: top;\n",
              "    }\n",
              "\n",
              "    .dataframe thead th {\n",
              "        text-align: right;\n",
              "    }\n",
              "</style>\n",
              "<table border=\"1\" class=\"dataframe\">\n",
              "  <thead>\n",
              "    <tr style=\"text-align: right;\">\n",
              "      <th></th>\n",
              "      <th>author_id</th>\n",
              "      <th>author</th>\n",
              "    </tr>\n",
              "  </thead>\n",
              "  <tbody>\n",
              "    <tr>\n",
              "      <th>0</th>\n",
              "      <td>1</td>\n",
              "      <td>A.S. Byatt</td>\n",
              "    </tr>\n",
              "    <tr>\n",
              "      <th>1</th>\n",
              "      <td>2</td>\n",
              "      <td>Aesop/Laura Harris/Laura Gibbs</td>\n",
              "    </tr>\n",
              "    <tr>\n",
              "      <th>2</th>\n",
              "      <td>3</td>\n",
              "      <td>Agatha Christie</td>\n",
              "    </tr>\n",
              "    <tr>\n",
              "      <th>3</th>\n",
              "      <td>4</td>\n",
              "      <td>Alan Brennert</td>\n",
              "    </tr>\n",
              "    <tr>\n",
              "      <th>4</th>\n",
              "      <td>5</td>\n",
              "      <td>Alan Moore/David   Lloyd</td>\n",
              "    </tr>\n",
              "  </tbody>\n",
              "</table>\n",
              "</div>"
            ],
            "text/plain": [
              "   author_id                          author\n",
              "0          1                      A.S. Byatt\n",
              "1          2  Aesop/Laura Harris/Laura Gibbs\n",
              "2          3                 Agatha Christie\n",
              "3          4                   Alan Brennert\n",
              "4          5        Alan Moore/David   Lloyd"
            ]
          },
          "execution_count": 3,
          "metadata": {},
          "output_type": "execute_result"
        }
      ],
      "source": [
        "query = \"\"\"\n",
        "SELECT *\n",
        "FROM authors\n",
        "LIMIT 5;\n",
        "\"\"\"\n",
        "pd.io.sql.read_sql(query, con = engine)\n"
      ]
    },
    {
      "cell_type": "code",
      "execution_count": null,
      "metadata": {
        "colab": {
          "base_uri": "https://localhost:8080/",
          "height": 206
        },
        "id": "rUQqtEffsYIP",
        "outputId": "bca1320b-7a27-417e-e3da-622706b34717"
      },
      "outputs": [
        {
          "data": {
            "text/html": [
              "<div>\n",
              "<style scoped>\n",
              "    .dataframe tbody tr th:only-of-type {\n",
              "        vertical-align: middle;\n",
              "    }\n",
              "\n",
              "    .dataframe tbody tr th {\n",
              "        vertical-align: top;\n",
              "    }\n",
              "\n",
              "    .dataframe thead th {\n",
              "        text-align: right;\n",
              "    }\n",
              "</style>\n",
              "<table border=\"1\" class=\"dataframe\">\n",
              "  <thead>\n",
              "    <tr style=\"text-align: right;\">\n",
              "      <th></th>\n",
              "      <th>publisher_id</th>\n",
              "      <th>publisher</th>\n",
              "    </tr>\n",
              "  </thead>\n",
              "  <tbody>\n",
              "    <tr>\n",
              "      <th>0</th>\n",
              "      <td>1</td>\n",
              "      <td>Ace</td>\n",
              "    </tr>\n",
              "    <tr>\n",
              "      <th>1</th>\n",
              "      <td>2</td>\n",
              "      <td>Ace Book</td>\n",
              "    </tr>\n",
              "    <tr>\n",
              "      <th>2</th>\n",
              "      <td>3</td>\n",
              "      <td>Ace Books</td>\n",
              "    </tr>\n",
              "    <tr>\n",
              "      <th>3</th>\n",
              "      <td>4</td>\n",
              "      <td>Ace Hardcover</td>\n",
              "    </tr>\n",
              "    <tr>\n",
              "      <th>4</th>\n",
              "      <td>5</td>\n",
              "      <td>Addison Wesley Publishing Company</td>\n",
              "    </tr>\n",
              "  </tbody>\n",
              "</table>\n",
              "</div>"
            ],
            "text/plain": [
              "   publisher_id                          publisher\n",
              "0             1                                Ace\n",
              "1             2                           Ace Book\n",
              "2             3                          Ace Books\n",
              "3             4                      Ace Hardcover\n",
              "4             5  Addison Wesley Publishing Company"
            ]
          },
          "execution_count": 4,
          "metadata": {},
          "output_type": "execute_result"
        }
      ],
      "source": [
        "query = \"\"\"\n",
        "SELECT *\n",
        "FROM publishers\n",
        "LIMIT 5;\n",
        "\"\"\"\n",
        "pd.io.sql.read_sql(query, con = engine)"
      ]
    },
    {
      "cell_type": "code",
      "execution_count": null,
      "metadata": {
        "colab": {
          "base_uri": "https://localhost:8080/",
          "height": 206
        },
        "id": "mjZ5ve_dtvuT",
        "outputId": "c665a40a-c556-4c36-f757-f10d4ce7709f"
      },
      "outputs": [
        {
          "data": {
            "text/html": [
              "<div>\n",
              "<style scoped>\n",
              "    .dataframe tbody tr th:only-of-type {\n",
              "        vertical-align: middle;\n",
              "    }\n",
              "\n",
              "    .dataframe tbody tr th {\n",
              "        vertical-align: top;\n",
              "    }\n",
              "\n",
              "    .dataframe thead th {\n",
              "        text-align: right;\n",
              "    }\n",
              "</style>\n",
              "<table border=\"1\" class=\"dataframe\">\n",
              "  <thead>\n",
              "    <tr style=\"text-align: right;\">\n",
              "      <th></th>\n",
              "      <th>rating_id</th>\n",
              "      <th>book_id</th>\n",
              "      <th>username</th>\n",
              "      <th>rating</th>\n",
              "    </tr>\n",
              "  </thead>\n",
              "  <tbody>\n",
              "    <tr>\n",
              "      <th>0</th>\n",
              "      <td>1</td>\n",
              "      <td>1</td>\n",
              "      <td>ryanfranco</td>\n",
              "      <td>4</td>\n",
              "    </tr>\n",
              "    <tr>\n",
              "      <th>1</th>\n",
              "      <td>2</td>\n",
              "      <td>1</td>\n",
              "      <td>grantpatricia</td>\n",
              "      <td>2</td>\n",
              "    </tr>\n",
              "    <tr>\n",
              "      <th>2</th>\n",
              "      <td>3</td>\n",
              "      <td>1</td>\n",
              "      <td>brandtandrea</td>\n",
              "      <td>5</td>\n",
              "    </tr>\n",
              "    <tr>\n",
              "      <th>3</th>\n",
              "      <td>4</td>\n",
              "      <td>2</td>\n",
              "      <td>lorichen</td>\n",
              "      <td>3</td>\n",
              "    </tr>\n",
              "    <tr>\n",
              "      <th>4</th>\n",
              "      <td>5</td>\n",
              "      <td>2</td>\n",
              "      <td>mariokeller</td>\n",
              "      <td>2</td>\n",
              "    </tr>\n",
              "  </tbody>\n",
              "</table>\n",
              "</div>"
            ],
            "text/plain": [
              "   rating_id  book_id       username  rating\n",
              "0          1        1     ryanfranco       4\n",
              "1          2        1  grantpatricia       2\n",
              "2          3        1   brandtandrea       5\n",
              "3          4        2       lorichen       3\n",
              "4          5        2    mariokeller       2"
            ]
          },
          "execution_count": 5,
          "metadata": {},
          "output_type": "execute_result"
        }
      ],
      "source": [
        "query = \"\"\"\n",
        "SELECT *\n",
        "FROM ratings\n",
        "LIMIT 5;\n",
        "\"\"\"\n",
        "pd.io.sql.read_sql(query, con = engine)"
      ]
    },
    {
      "cell_type": "code",
      "execution_count": null,
      "metadata": {
        "colab": {
          "base_uri": "https://localhost:8080/",
          "height": 206
        },
        "id": "UfTiOYJyuoH4",
        "outputId": "a1c40f66-ec65-4b28-dfcf-9b1092a2e07e"
      },
      "outputs": [
        {
          "data": {
            "text/html": [
              "<div>\n",
              "<style scoped>\n",
              "    .dataframe tbody tr th:only-of-type {\n",
              "        vertical-align: middle;\n",
              "    }\n",
              "\n",
              "    .dataframe tbody tr th {\n",
              "        vertical-align: top;\n",
              "    }\n",
              "\n",
              "    .dataframe thead th {\n",
              "        text-align: right;\n",
              "    }\n",
              "</style>\n",
              "<table border=\"1\" class=\"dataframe\">\n",
              "  <thead>\n",
              "    <tr style=\"text-align: right;\">\n",
              "      <th></th>\n",
              "      <th>review_id</th>\n",
              "      <th>book_id</th>\n",
              "      <th>username</th>\n",
              "      <th>text</th>\n",
              "    </tr>\n",
              "  </thead>\n",
              "  <tbody>\n",
              "    <tr>\n",
              "      <th>0</th>\n",
              "      <td>1</td>\n",
              "      <td>1</td>\n",
              "      <td>brandtandrea</td>\n",
              "      <td>Mention society tell send professor analysis. ...</td>\n",
              "    </tr>\n",
              "    <tr>\n",
              "      <th>1</th>\n",
              "      <td>2</td>\n",
              "      <td>1</td>\n",
              "      <td>ryanfranco</td>\n",
              "      <td>Foot glass pretty audience hit themselves. Amo...</td>\n",
              "    </tr>\n",
              "    <tr>\n",
              "      <th>2</th>\n",
              "      <td>3</td>\n",
              "      <td>2</td>\n",
              "      <td>lorichen</td>\n",
              "      <td>Listen treat keep worry. Miss husband tax but ...</td>\n",
              "    </tr>\n",
              "    <tr>\n",
              "      <th>3</th>\n",
              "      <td>4</td>\n",
              "      <td>3</td>\n",
              "      <td>johnsonamanda</td>\n",
              "      <td>Finally month interesting blue could nature cu...</td>\n",
              "    </tr>\n",
              "    <tr>\n",
              "      <th>4</th>\n",
              "      <td>5</td>\n",
              "      <td>3</td>\n",
              "      <td>scotttamara</td>\n",
              "      <td>Nation purpose heavy give wait song will. List...</td>\n",
              "    </tr>\n",
              "  </tbody>\n",
              "</table>\n",
              "</div>"
            ],
            "text/plain": [
              "   review_id  book_id       username  \\\n",
              "0          1        1   brandtandrea   \n",
              "1          2        1     ryanfranco   \n",
              "2          3        2       lorichen   \n",
              "3          4        3  johnsonamanda   \n",
              "4          5        3    scotttamara   \n",
              "\n",
              "                                                text  \n",
              "0  Mention society tell send professor analysis. ...  \n",
              "1  Foot glass pretty audience hit themselves. Amo...  \n",
              "2  Listen treat keep worry. Miss husband tax but ...  \n",
              "3  Finally month interesting blue could nature cu...  \n",
              "4  Nation purpose heavy give wait song will. List...  "
            ]
          },
          "execution_count": 6,
          "metadata": {},
          "output_type": "execute_result"
        }
      ],
      "source": [
        "query = \"\"\"\n",
        "SELECT *\n",
        "FROM reviews\n",
        "LIMIT 5;\n",
        "\"\"\"\n",
        "pd.io.sql.read_sql(query, con = engine)"
      ]
    },
    {
      "cell_type": "markdown",
      "metadata": {
        "id": "iO0yt7qrxLEo"
      },
      "source": [
        "##Перейдем к заданиям"
      ]
    },
    {
      "cell_type": "markdown",
      "metadata": {
        "id": "aD-xRJImxXUN"
      },
      "source": [
        "### Задание 1. Посчитайте, сколько книг вышло после 1 января 2000 года"
      ]
    },
    {
      "cell_type": "code",
      "execution_count": null,
      "metadata": {
        "colab": {
          "base_uri": "https://localhost:8080/",
          "height": 81
        },
        "id": "DZ24K_brxgPt",
        "outputId": "7f717a1b-497b-4376-8dea-425d3a8e761f"
      },
      "outputs": [
        {
          "data": {
            "text/html": [
              "<div>\n",
              "<style scoped>\n",
              "    .dataframe tbody tr th:only-of-type {\n",
              "        vertical-align: middle;\n",
              "    }\n",
              "\n",
              "    .dataframe tbody tr th {\n",
              "        vertical-align: top;\n",
              "    }\n",
              "\n",
              "    .dataframe thead th {\n",
              "        text-align: right;\n",
              "    }\n",
              "</style>\n",
              "<table border=\"1\" class=\"dataframe\">\n",
              "  <thead>\n",
              "    <tr style=\"text-align: right;\">\n",
              "      <th></th>\n",
              "      <th>count</th>\n",
              "    </tr>\n",
              "  </thead>\n",
              "  <tbody>\n",
              "    <tr>\n",
              "      <th>0</th>\n",
              "      <td>819</td>\n",
              "    </tr>\n",
              "  </tbody>\n",
              "</table>\n",
              "</div>"
            ],
            "text/plain": [
              "   count\n",
              "0    819"
            ]
          },
          "execution_count": 7,
          "metadata": {},
          "output_type": "execute_result"
        }
      ],
      "source": [
        "query = \"\"\"\n",
        "SELECT COUNT(book_id)\n",
        "FROM books\n",
        "WHERE publication_date > '2000-01-01'\n",
        "\"\"\"\n",
        "pd.io.sql.read_sql(query, con = engine)\n"
      ]
    },
    {
      "cell_type": "markdown",
      "metadata": {
        "id": "UYTnu_L_xtSb"
      },
      "source": [
        "Вывод: после 1 января 2000 года вышло 819 книг"
      ]
    },
    {
      "cell_type": "markdown",
      "metadata": {
        "id": "qpA9DsRLxzyc"
      },
      "source": [
        "### Задание 2. Для каждой книги посчитайте количество обзоров и среднюю оценку"
      ]
    },
    {
      "cell_type": "code",
      "execution_count": null,
      "metadata": {
        "colab": {
          "base_uri": "https://localhost:8080/",
          "height": 424
        },
        "id": "66IX0z5_xyrm",
        "outputId": "a7ff8576-181c-46a6-d33c-10db9aba679f"
      },
      "outputs": [
        {
          "data": {
            "text/html": [
              "<div>\n",
              "<style scoped>\n",
              "    .dataframe tbody tr th:only-of-type {\n",
              "        vertical-align: middle;\n",
              "    }\n",
              "\n",
              "    .dataframe tbody tr th {\n",
              "        vertical-align: top;\n",
              "    }\n",
              "\n",
              "    .dataframe thead th {\n",
              "        text-align: right;\n",
              "    }\n",
              "</style>\n",
              "<table border=\"1\" class=\"dataframe\">\n",
              "  <thead>\n",
              "    <tr style=\"text-align: right;\">\n",
              "      <th></th>\n",
              "      <th>title</th>\n",
              "      <th>book_id</th>\n",
              "      <th>avg_score</th>\n",
              "      <th>reviews_count</th>\n",
              "    </tr>\n",
              "  </thead>\n",
              "  <tbody>\n",
              "    <tr>\n",
              "      <th>0</th>\n",
              "      <td>Twilight (Twilight  #1)</td>\n",
              "      <td>948</td>\n",
              "      <td>3.662500</td>\n",
              "      <td>7</td>\n",
              "    </tr>\n",
              "    <tr>\n",
              "      <th>1</th>\n",
              "      <td>The Curious Incident of the Dog in the Night-Time</td>\n",
              "      <td>695</td>\n",
              "      <td>4.081081</td>\n",
              "      <td>6</td>\n",
              "    </tr>\n",
              "    <tr>\n",
              "      <th>2</th>\n",
              "      <td>Harry Potter and the Chamber of Secrets (Harry...</td>\n",
              "      <td>299</td>\n",
              "      <td>4.287500</td>\n",
              "      <td>6</td>\n",
              "    </tr>\n",
              "    <tr>\n",
              "      <th>3</th>\n",
              "      <td>The Da Vinci Code (Robert Langdon  #2)</td>\n",
              "      <td>696</td>\n",
              "      <td>3.830508</td>\n",
              "      <td>6</td>\n",
              "    </tr>\n",
              "    <tr>\n",
              "      <th>4</th>\n",
              "      <td>The Glass Castle</td>\n",
              "      <td>734</td>\n",
              "      <td>4.206897</td>\n",
              "      <td>6</td>\n",
              "    </tr>\n",
              "    <tr>\n",
              "      <th>...</th>\n",
              "      <td>...</td>\n",
              "      <td>...</td>\n",
              "      <td>...</td>\n",
              "      <td>...</td>\n",
              "    </tr>\n",
              "    <tr>\n",
              "      <th>995</th>\n",
              "      <td>The Cat in the Hat and Other Dr. Seuss Favorites</td>\n",
              "      <td>672</td>\n",
              "      <td>5.000000</td>\n",
              "      <td>0</td>\n",
              "    </tr>\n",
              "    <tr>\n",
              "      <th>996</th>\n",
              "      <td>The Natural Way to Draw</td>\n",
              "      <td>808</td>\n",
              "      <td>3.000000</td>\n",
              "      <td>0</td>\n",
              "    </tr>\n",
              "    <tr>\n",
              "      <th>997</th>\n",
              "      <td>Essential Tales and Poems</td>\n",
              "      <td>221</td>\n",
              "      <td>4.000000</td>\n",
              "      <td>0</td>\n",
              "    </tr>\n",
              "    <tr>\n",
              "      <th>998</th>\n",
              "      <td>Anne Rice's The Vampire Lestat: A Graphic Novel</td>\n",
              "      <td>83</td>\n",
              "      <td>3.666667</td>\n",
              "      <td>0</td>\n",
              "    </tr>\n",
              "    <tr>\n",
              "      <th>999</th>\n",
              "      <td>Leonardo's Notebooks</td>\n",
              "      <td>387</td>\n",
              "      <td>4.000000</td>\n",
              "      <td>0</td>\n",
              "    </tr>\n",
              "  </tbody>\n",
              "</table>\n",
              "<p>1000 rows × 4 columns</p>\n",
              "</div>"
            ],
            "text/plain": [
              "                                                 title  book_id  avg_score  \\\n",
              "0                              Twilight (Twilight  #1)      948   3.662500   \n",
              "1    The Curious Incident of the Dog in the Night-Time      695   4.081081   \n",
              "2    Harry Potter and the Chamber of Secrets (Harry...      299   4.287500   \n",
              "3               The Da Vinci Code (Robert Langdon  #2)      696   3.830508   \n",
              "4                                     The Glass Castle      734   4.206897   \n",
              "..                                                 ...      ...        ...   \n",
              "995   The Cat in the Hat and Other Dr. Seuss Favorites      672   5.000000   \n",
              "996                            The Natural Way to Draw      808   3.000000   \n",
              "997                          Essential Tales and Poems      221   4.000000   \n",
              "998    Anne Rice's The Vampire Lestat: A Graphic Novel       83   3.666667   \n",
              "999                               Leonardo's Notebooks      387   4.000000   \n",
              "\n",
              "     reviews_count  \n",
              "0                7  \n",
              "1                6  \n",
              "2                6  \n",
              "3                6  \n",
              "4                6  \n",
              "..             ...  \n",
              "995              0  \n",
              "996              0  \n",
              "997              0  \n",
              "998              0  \n",
              "999              0  \n",
              "\n",
              "[1000 rows x 4 columns]"
            ]
          },
          "execution_count": 8,
          "metadata": {},
          "output_type": "execute_result"
        }
      ],
      "source": [
        "query = \"\"\"\n",
        "WITH rating_all AS\n",
        "    (SELECT AVG(ra.rating) AS avg_score,\n",
        "            b.book_id,\n",
        "            b.title\n",
        "     FROM books as b\n",
        "     LEFT JOIN ratings AS ra ON ra.book_id = b.book_id \n",
        "     GROUP BY b.book_id),\n",
        "     \n",
        "review_all AS\n",
        "    (SELECT COUNT(review_id) AS reviews_count,\n",
        "            b.book_id,\n",
        "            b.title\n",
        "     FROM books as b\n",
        "     LEFT JOIN reviews AS re ON re.book_id = b.book_id \n",
        "     GROUP BY b.book_id)\n",
        "\n",
        "SELECT b.title,\n",
        "       b.book_id,\n",
        "       avg_score,\n",
        "       reviews_count\n",
        "FROM books as b\n",
        "       INNER JOIN rating_all as ra_1 ON b.book_id = ra_1.book_id\n",
        "       INNER JOIN review_all as re_1 ON b.book_id = re_1.book_id\n",
        "ORDER BY reviews_count DESC\n",
        "\"\"\"\n",
        "\n",
        "pd.io.sql.read_sql(query, con = engine)"
      ]
    },
    {
      "cell_type": "markdown",
      "metadata": {
        "id": "UbQ3CEjf2XaM"
      },
      "source": [
        "Вывод: Книга с самым большим рейтингом - Twilight."
      ]
    },
    {
      "cell_type": "markdown",
      "metadata": {
        "id": "Oh1J3aPO11JQ"
      },
      "source": [
        "### Задание 3. Определите издательство, которое выпустило наибольшее число книг толще 50 страниц — так вы исключите из анализа брошюры"
      ]
    },
    {
      "cell_type": "code",
      "execution_count": null,
      "metadata": {
        "colab": {
          "base_uri": "https://localhost:8080/",
          "height": 81
        },
        "id": "ftb-skTa2Dwo",
        "outputId": "d6984754-0b03-4efa-d3a0-db601b956865"
      },
      "outputs": [
        {
          "data": {
            "text/html": [
              "<div>\n",
              "<style scoped>\n",
              "    .dataframe tbody tr th:only-of-type {\n",
              "        vertical-align: middle;\n",
              "    }\n",
              "\n",
              "    .dataframe tbody tr th {\n",
              "        vertical-align: top;\n",
              "    }\n",
              "\n",
              "    .dataframe thead th {\n",
              "        text-align: right;\n",
              "    }\n",
              "</style>\n",
              "<table border=\"1\" class=\"dataframe\">\n",
              "  <thead>\n",
              "    <tr style=\"text-align: right;\">\n",
              "      <th></th>\n",
              "      <th>publisher</th>\n",
              "      <th>books_amount</th>\n",
              "    </tr>\n",
              "  </thead>\n",
              "  <tbody>\n",
              "    <tr>\n",
              "      <th>0</th>\n",
              "      <td>Penguin Books</td>\n",
              "      <td>42</td>\n",
              "    </tr>\n",
              "  </tbody>\n",
              "</table>\n",
              "</div>"
            ],
            "text/plain": [
              "       publisher  books_amount\n",
              "0  Penguin Books            42"
            ]
          },
          "execution_count": 9,
          "metadata": {},
          "output_type": "execute_result"
        }
      ],
      "source": [
        "query = \"\"\"\n",
        "SELECT publisher,\n",
        "       COUNT(b.book_id) as books_amount\n",
        "FROM books as b\n",
        "     LEFT JOIN publishers as p ON b.publisher_id = p.publisher_id\n",
        "WHERE num_pages > 50\n",
        "GROUP BY publisher\n",
        "ORDER BY books_amount DESC\n",
        "LIMIT 1;\n",
        "\"\"\"\n",
        "pd.io.sql.read_sql(query, con = engine)"
      ]
    },
    {
      "cell_type": "markdown",
      "metadata": {
        "id": "HU1V7XCFIdqr"
      },
      "source": [
        "Вывод: Издательство, которое выпустило наибольше количество книг (42), более 50 страниц, - Penguin Books. "
      ]
    },
    {
      "cell_type": "markdown",
      "metadata": {
        "id": "QBbVBBTTJFw_"
      },
      "source": [
        "###Задание 4. Определите автора с самой высокой средней оценкой книг — учитывайте только книги с 50 и более оценками"
      ]
    },
    {
      "cell_type": "code",
      "execution_count": null,
      "metadata": {
        "colab": {
          "base_uri": "https://localhost:8080/",
          "height": 81
        },
        "id": "XJ-7JzCYJP1C",
        "outputId": "f9d2f265-7899-4a85-8703-b40a89e1e16b"
      },
      "outputs": [
        {
          "data": {
            "text/html": [
              "<div>\n",
              "<style scoped>\n",
              "    .dataframe tbody tr th:only-of-type {\n",
              "        vertical-align: middle;\n",
              "    }\n",
              "\n",
              "    .dataframe tbody tr th {\n",
              "        vertical-align: top;\n",
              "    }\n",
              "\n",
              "    .dataframe thead th {\n",
              "        text-align: right;\n",
              "    }\n",
              "</style>\n",
              "<table border=\"1\" class=\"dataframe\">\n",
              "  <thead>\n",
              "    <tr style=\"text-align: right;\">\n",
              "      <th></th>\n",
              "      <th>author</th>\n",
              "      <th>avg_rating</th>\n",
              "    </tr>\n",
              "  </thead>\n",
              "  <tbody>\n",
              "    <tr>\n",
              "      <th>0</th>\n",
              "      <td>J.K. Rowling/Mary GrandPré</td>\n",
              "      <td>4.287097</td>\n",
              "    </tr>\n",
              "  </tbody>\n",
              "</table>\n",
              "</div>"
            ],
            "text/plain": [
              "                       author  avg_rating\n",
              "0  J.K. Rowling/Mary GrandPré    4.287097"
            ]
          },
          "execution_count": 10,
          "metadata": {},
          "output_type": "execute_result"
        }
      ],
      "source": [
        "query = \"\"\"\n",
        "SELECT author,\n",
        "       AVG(rating) as avg_rating\n",
        "FROM books as b \n",
        "     LEFT JOIN ratings as ra ON b.book_id = ra.book_id\n",
        "     LEFT JOIN authors as a ON b.author_id = a.author_id\n",
        "WHERE b.book_id IN (\n",
        "                   SELECT book_id\n",
        "                   FROM ratings \n",
        "                   GROUP BY book_id\n",
        "                   HAVING COUNT(rating_id) >= 50\n",
        "                   ORDER BY COUNT(rating_id) DESC)\n",
        "GROUP BY author\n",
        "ORDER BY avg_rating DESC\n",
        "LIMIT 1;\n",
        "\"\"\"\n",
        "pd.io.sql.read_sql(query, con = engine)"
      ]
    },
    {
      "cell_type": "markdown",
      "metadata": {
        "id": "m_jCo86qNq_Z"
      },
      "source": [
        "Вывод: Автор книги, более 50 страниц, с самым большим среднем рейтингом - J.K. Rowling/Mary GrandPré. Это не удивительно - Гарри Потера любят многие)"
      ]
    },
    {
      "cell_type": "markdown",
      "metadata": {
        "id": "rN0o6qcoOImg"
      },
      "source": [
        "###Задание 5. Посчитайте среднее количество обзоров от пользователей, которые поставили больше 50 оценок"
      ]
    },
    {
      "cell_type": "code",
      "execution_count": null,
      "metadata": {
        "colab": {
          "base_uri": "https://localhost:8080/",
          "height": 81
        },
        "id": "Da-O_sRFOVJm",
        "outputId": "7857b498-e873-4193-9986-384426fb648f"
      },
      "outputs": [
        {
          "data": {
            "text/html": [
              "<div>\n",
              "<style scoped>\n",
              "    .dataframe tbody tr th:only-of-type {\n",
              "        vertical-align: middle;\n",
              "    }\n",
              "\n",
              "    .dataframe tbody tr th {\n",
              "        vertical-align: top;\n",
              "    }\n",
              "\n",
              "    .dataframe thead th {\n",
              "        text-align: right;\n",
              "    }\n",
              "</style>\n",
              "<table border=\"1\" class=\"dataframe\">\n",
              "  <thead>\n",
              "    <tr style=\"text-align: right;\">\n",
              "      <th></th>\n",
              "      <th>round</th>\n",
              "    </tr>\n",
              "  </thead>\n",
              "  <tbody>\n",
              "    <tr>\n",
              "      <th>0</th>\n",
              "      <td>24.0</td>\n",
              "    </tr>\n",
              "  </tbody>\n",
              "</table>\n",
              "</div>"
            ],
            "text/plain": [
              "   round\n",
              "0   24.0"
            ]
          },
          "execution_count": 11,
          "metadata": {},
          "output_type": "execute_result"
        }
      ],
      "source": [
        "query = \"\"\"\n",
        "SELECT ROUND(AVG(review_count))\n",
        "FROM (SELECT COUNT(review_id) AS review_count\n",
        "       FROM reviews \n",
        "       WHERE username IN (\n",
        "                          SELECT username\n",
        "                          FROM ratings\n",
        "                          GROUP BY username\n",
        "                          HAVING COUNT(rating_id) > 50)\n",
        "       GROUP BY username) AS a\n",
        "\"\"\"\n",
        "pd.io.sql.read_sql(query, con = engine)"
      ]
    },
    {
      "cell_type": "markdown",
      "metadata": {
        "id": "ninxAYdEXtnk"
      },
      "source": [
        "Вывод: Среднее количество обзоров среди пользователей, которые поставили более 50 оценок, равно 24."
      ]
    },
    {
      "cell_type": "markdown",
      "metadata": {
        "id": "DwWT6eUQYNSF"
      },
      "source": [
        "**Итоговый вывод:**\n",
        "1. После 01.01.2000 вышло 819 книг - довольно небольшое количество за фактически 20 лет\n",
        "2. Книга с самым большим рейтингом - A Dirty Job. В начале 2000-х это и правда был бестселлер по версии New York Times\n",
        "3. Penguin Books выпустило 42 книги, более 50 страниц, - это самый большой показатель среди издательств\n",
        "4. Джоан Роулинг - автор с самым большим рейтингом среди книг, объемом более 50 книг\n",
        "5. Среднее количество обзоров среди пользователей, которые поставили более 50 оценок, равно 24 - довольно большой показатель\n"
      ]
    }
  ],
  "metadata": {
    "ExecuteTimeLog": [
      {
        "duration": 8487,
        "start_time": "2022-11-12T16:02:06.250Z"
      },
      {
        "duration": 45,
        "start_time": "2022-11-12T16:02:14.739Z"
      },
      {
        "duration": 11,
        "start_time": "2022-11-12T16:02:14.785Z"
      },
      {
        "duration": 10,
        "start_time": "2022-11-12T16:02:14.797Z"
      },
      {
        "duration": 10,
        "start_time": "2022-11-12T16:02:14.809Z"
      },
      {
        "duration": 10,
        "start_time": "2022-11-12T16:02:14.821Z"
      },
      {
        "duration": 9,
        "start_time": "2022-11-12T16:02:14.833Z"
      },
      {
        "duration": 26,
        "start_time": "2022-11-12T16:02:14.843Z"
      },
      {
        "duration": 11,
        "start_time": "2022-11-12T16:02:14.871Z"
      },
      {
        "duration": 13,
        "start_time": "2022-11-12T16:02:14.883Z"
      },
      {
        "duration": 19,
        "start_time": "2022-11-12T16:02:14.897Z"
      },
      {
        "duration": 5980,
        "start_time": "2022-11-12T16:25:36.837Z"
      },
      {
        "duration": 306,
        "start_time": "2022-11-12T16:25:53.165Z"
      },
      {
        "duration": 111,
        "start_time": "2022-11-12T16:26:35.777Z"
      },
      {
        "duration": 6280,
        "start_time": "2022-11-13T13:41:14.553Z"
      },
      {
        "duration": 260,
        "start_time": "2022-11-13T13:41:20.835Z"
      },
      {
        "duration": 72,
        "start_time": "2022-11-13T13:41:21.097Z"
      },
      {
        "duration": 72,
        "start_time": "2022-11-13T13:41:21.171Z"
      },
      {
        "duration": 73,
        "start_time": "2022-11-13T13:41:21.245Z"
      },
      {
        "duration": 77,
        "start_time": "2022-11-13T13:41:21.319Z"
      },
      {
        "duration": 75,
        "start_time": "2022-11-13T13:41:21.397Z"
      },
      {
        "duration": 110,
        "start_time": "2022-11-13T13:41:21.473Z"
      },
      {
        "duration": 73,
        "start_time": "2022-11-13T13:41:21.586Z"
      },
      {
        "duration": 82,
        "start_time": "2022-11-13T13:41:21.661Z"
      },
      {
        "duration": 78,
        "start_time": "2022-11-13T13:41:21.745Z"
      },
      {
        "duration": 261,
        "start_time": "2022-11-13T13:42:04.374Z"
      },
      {
        "duration": 173,
        "start_time": "2022-11-13T13:43:11.414Z"
      },
      {
        "duration": 130,
        "start_time": "2022-11-13T13:44:51.908Z"
      },
      {
        "duration": 133,
        "start_time": "2022-11-13T13:48:16.528Z"
      },
      {
        "duration": 126,
        "start_time": "2022-11-13T13:48:38.781Z"
      },
      {
        "duration": 124,
        "start_time": "2022-11-13T13:50:34.292Z"
      },
      {
        "duration": 125,
        "start_time": "2022-11-13T13:51:23.563Z"
      },
      {
        "duration": 159,
        "start_time": "2022-11-13T13:51:43.502Z"
      },
      {
        "duration": 130,
        "start_time": "2022-11-13T13:52:05.244Z"
      },
      {
        "duration": 123,
        "start_time": "2022-11-13T13:52:41.267Z"
      },
      {
        "duration": 126,
        "start_time": "2022-11-13T13:55:43.137Z"
      },
      {
        "duration": 128,
        "start_time": "2022-11-13T13:57:56.310Z"
      },
      {
        "duration": 156,
        "start_time": "2022-11-13T13:58:27.506Z"
      },
      {
        "duration": 138,
        "start_time": "2022-11-13T13:58:46.381Z"
      },
      {
        "duration": 130,
        "start_time": "2022-11-13T14:16:49.796Z"
      },
      {
        "duration": 122,
        "start_time": "2022-11-13T14:17:07.521Z"
      },
      {
        "duration": 108,
        "start_time": "2022-11-13T14:20:21.751Z"
      },
      {
        "duration": 108,
        "start_time": "2022-11-13T14:21:50.363Z"
      },
      {
        "duration": 5607,
        "start_time": "2022-11-13T17:58:32.972Z"
      },
      {
        "duration": 266,
        "start_time": "2022-11-13T17:58:38.581Z"
      },
      {
        "duration": 74,
        "start_time": "2022-11-13T17:58:38.849Z"
      },
      {
        "duration": 90,
        "start_time": "2022-11-13T17:58:38.925Z"
      },
      {
        "duration": 79,
        "start_time": "2022-11-13T17:58:39.017Z"
      },
      {
        "duration": 78,
        "start_time": "2022-11-13T17:58:39.097Z"
      },
      {
        "duration": 75,
        "start_time": "2022-11-13T17:58:39.176Z"
      },
      {
        "duration": 353,
        "start_time": "2022-11-13T17:58:39.252Z"
      },
      {
        "duration": 76,
        "start_time": "2022-11-13T17:58:39.606Z"
      },
      {
        "duration": 995,
        "start_time": "2022-11-13T17:58:39.683Z"
      },
      {
        "duration": 81,
        "start_time": "2022-11-13T17:58:40.680Z"
      }
    ],
    "colab": {
      "provenance": []
    },
    "kernelspec": {
      "display_name": "Python 3 (ipykernel)",
      "language": "python",
      "name": "python3"
    },
    "language_info": {
      "codemirror_mode": {
        "name": "ipython",
        "version": 3
      },
      "file_extension": ".py",
      "mimetype": "text/x-python",
      "name": "python",
      "nbconvert_exporter": "python",
      "pygments_lexer": "ipython3",
      "version": "3.9.5"
    },
    "toc": {
      "base_numbering": 1,
      "nav_menu": {},
      "number_sections": true,
      "sideBar": true,
      "skip_h1_title": true,
      "title_cell": "Table of Contents",
      "title_sidebar": "Contents",
      "toc_cell": false,
      "toc_position": {},
      "toc_section_display": true,
      "toc_window_display": false
    }
  },
  "nbformat": 4,
  "nbformat_minor": 0
}